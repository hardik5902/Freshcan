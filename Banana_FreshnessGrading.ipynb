{
 "cells": [
  {
   "cell_type": "code",
   "execution_count": 1,
   "id": "5cc42d93",
   "metadata": {},
   "outputs": [],
   "source": [
    "import pandas as pd\n",
    "import numpy as np\n",
    "import matplotlib.pyplot as plt\n",
    "import seaborn as sns\n",
    "from sklearn.preprocessing import StandardScaler\n",
    "from sklearn.model_selection import train_test_split\n",
    "from sklearn.cluster import KMeans\n",
    "from sklearn import metrics"
   ]
  },
  {
   "cell_type": "code",
   "execution_count": 2,
   "id": "da376692",
   "metadata": {},
   "outputs": [],
   "source": [
    "df = pd.read_csv('Banana.csv')"
   ]
  },
  {
   "cell_type": "markdown",
   "id": "fb2bdab8",
   "metadata": {},
   "source": [
    "### Clustering "
   ]
  },
  {
   "cell_type": "code",
   "execution_count": 3,
   "id": "131472ca",
   "metadata": {},
   "outputs": [],
   "source": [
    "X = df.drop(['image_id','Grade'],axis=1)"
   ]
  },
  {
   "cell_type": "code",
   "execution_count": 4,
   "id": "2e7f2b42",
   "metadata": {},
   "outputs": [],
   "source": [
    "scaler = StandardScaler()\n",
    "X_scaled = scaler.fit_transform(X)"
   ]
  },
  {
   "cell_type": "code",
   "execution_count": 5,
   "id": "a1c698d2",
   "metadata": {},
   "outputs": [
    {
     "data": {
      "text/plain": [
       "array([[ 1.19836589,  1.61003206,  0.21885945, ...,  0.831815  ,\n",
       "        -1.13444041, -0.91474194],\n",
       "       [ 1.2429744 ,  1.62100675,  0.22611939, ...,  0.81877732,\n",
       "        -1.14007773, -0.94428273],\n",
       "       [ 1.32495544,  1.68240647,  0.29078757, ...,  0.84927291,\n",
       "        -1.10830504, -0.91892702],\n",
       "       ...,\n",
       "       [-1.31846061, -1.5157595 , -1.22604343, ..., -0.03669856,\n",
       "         0.14042053,  0.19188748],\n",
       "       [-1.37233309, -1.57610664, -1.16951699, ..., -0.34155714,\n",
       "        -0.05881127,  0.03426661],\n",
       "       [-1.39024848, -1.59626886, -1.17505963, ..., -0.35677554,\n",
       "        -0.05871325,  0.04751259]])"
      ]
     },
     "execution_count": 5,
     "metadata": {},
     "output_type": "execute_result"
    }
   ],
   "source": [
    "X_scaled"
   ]
  },
  {
   "cell_type": "code",
   "execution_count": 6,
   "id": "b7850f17",
   "metadata": {},
   "outputs": [
    {
     "name": "stderr",
     "output_type": "stream",
     "text": [
      "C:\\Users\\JAINAM\\anaconda3\\lib\\site-packages\\sklearn\\cluster\\_kmeans.py:870: FutureWarning: The default value of `n_init` will change from 10 to 'auto' in 1.4. Set the value of `n_init` explicitly to suppress the warning\n",
      "  warnings.warn(\n",
      "C:\\Users\\JAINAM\\anaconda3\\lib\\site-packages\\sklearn\\cluster\\_kmeans.py:1382: UserWarning: KMeans is known to have a memory leak on Windows with MKL, when there are less chunks than available threads. You can avoid it by setting the environment variable OMP_NUM_THREADS=2.\n",
      "  warnings.warn(\n"
     ]
    }
   ],
   "source": [
    "km_clust = KMeans(n_clusters=4)\n",
    "assigned_clusters = km_clust.fit_predict(X_scaled)"
   ]
  },
  {
   "cell_type": "code",
   "execution_count": 7,
   "id": "79a62a7e",
   "metadata": {},
   "outputs": [],
   "source": [
    "df['assigned_clusters'] = assigned_clusters"
   ]
  },
  {
   "cell_type": "code",
   "execution_count": 8,
   "id": "b4299565",
   "metadata": {},
   "outputs": [
    {
     "data": {
      "text/html": [
       "<div>\n",
       "<style scoped>\n",
       "    .dataframe tbody tr th:only-of-type {\n",
       "        vertical-align: middle;\n",
       "    }\n",
       "\n",
       "    .dataframe tbody tr th {\n",
       "        vertical-align: top;\n",
       "    }\n",
       "\n",
       "    .dataframe thead th {\n",
       "        text-align: right;\n",
       "    }\n",
       "</style>\n",
       "<table border=\"1\" class=\"dataframe\">\n",
       "  <thead>\n",
       "    <tr style=\"text-align: right;\">\n",
       "      <th></th>\n",
       "      <th>image_id</th>\n",
       "      <th>Mean_R</th>\n",
       "      <th>Mean_G</th>\n",
       "      <th>Mean_B</th>\n",
       "      <th>Std_R</th>\n",
       "      <th>Std_G</th>\n",
       "      <th>Std_B</th>\n",
       "      <th>Skew_R</th>\n",
       "      <th>Skew_G</th>\n",
       "      <th>Skew_B</th>\n",
       "      <th>...</th>\n",
       "      <th>Contrast_90</th>\n",
       "      <th>Correlation_90</th>\n",
       "      <th>Energy_90</th>\n",
       "      <th>Homogeneity_90</th>\n",
       "      <th>Contrast_135</th>\n",
       "      <th>Correlation_135</th>\n",
       "      <th>Energy_135</th>\n",
       "      <th>Homogeneity_135</th>\n",
       "      <th>Grade</th>\n",
       "      <th>assigned_clusters</th>\n",
       "    </tr>\n",
       "  </thead>\n",
       "  <tbody>\n",
       "    <tr>\n",
       "      <th>0</th>\n",
       "      <td>frame1630.jpg</td>\n",
       "      <td>115.161583</td>\n",
       "      <td>122.328091</td>\n",
       "      <td>49.853079</td>\n",
       "      <td>101.049206</td>\n",
       "      <td>107.004588</td>\n",
       "      <td>74.561024</td>\n",
       "      <td>-0.005896</td>\n",
       "      <td>-0.039516</td>\n",
       "      <td>1.685786</td>\n",
       "      <td>...</td>\n",
       "      <td>4910.721850</td>\n",
       "      <td>0.697122</td>\n",
       "      <td>0.211378</td>\n",
       "      <td>0.321910</td>\n",
       "      <td>5037.583798</td>\n",
       "      <td>0.689208</td>\n",
       "      <td>0.207908</td>\n",
       "      <td>0.331710</td>\n",
       "      <td>1</td>\n",
       "      <td>3</td>\n",
       "    </tr>\n",
       "    <tr>\n",
       "      <th>1</th>\n",
       "      <td>frame1640.jpg</td>\n",
       "      <td>116.392135</td>\n",
       "      <td>122.606427</td>\n",
       "      <td>49.963524</td>\n",
       "      <td>101.668523</td>\n",
       "      <td>106.985033</td>\n",
       "      <td>74.692554</td>\n",
       "      <td>-0.019012</td>\n",
       "      <td>-0.045266</td>\n",
       "      <td>1.679812</td>\n",
       "      <td>...</td>\n",
       "      <td>4963.587379</td>\n",
       "      <td>0.694170</td>\n",
       "      <td>0.211332</td>\n",
       "      <td>0.320002</td>\n",
       "      <td>5063.490418</td>\n",
       "      <td>0.687911</td>\n",
       "      <td>0.207384</td>\n",
       "      <td>0.329232</td>\n",
       "      <td>1</td>\n",
       "      <td>3</td>\n",
       "    </tr>\n",
       "    <tr>\n",
       "      <th>2</th>\n",
       "      <td>frame1650.jpg</td>\n",
       "      <td>118.653632</td>\n",
       "      <td>124.163620</td>\n",
       "      <td>50.947316</td>\n",
       "      <td>102.266119</td>\n",
       "      <td>107.095823</td>\n",
       "      <td>74.885052</td>\n",
       "      <td>-0.048848</td>\n",
       "      <td>-0.070369</td>\n",
       "      <td>1.651600</td>\n",
       "      <td>...</td>\n",
       "      <td>4865.912515</td>\n",
       "      <td>0.701881</td>\n",
       "      <td>0.214094</td>\n",
       "      <td>0.323103</td>\n",
       "      <td>5042.899009</td>\n",
       "      <td>0.690945</td>\n",
       "      <td>0.210338</td>\n",
       "      <td>0.331359</td>\n",
       "      <td>1</td>\n",
       "      <td>3</td>\n",
       "    </tr>\n",
       "    <tr>\n",
       "      <th>3</th>\n",
       "      <td>frame1660.jpg</td>\n",
       "      <td>113.146555</td>\n",
       "      <td>116.855483</td>\n",
       "      <td>44.294756</td>\n",
       "      <td>103.643341</td>\n",
       "      <td>107.646784</td>\n",
       "      <td>69.093316</td>\n",
       "      <td>0.047591</td>\n",
       "      <td>0.044949</td>\n",
       "      <td>1.875200</td>\n",
       "      <td>...</td>\n",
       "      <td>4640.121874</td>\n",
       "      <td>0.708500</td>\n",
       "      <td>0.241194</td>\n",
       "      <td>0.342850</td>\n",
       "      <td>4686.795254</td>\n",
       "      <td>0.705514</td>\n",
       "      <td>0.238083</td>\n",
       "      <td>0.352883</td>\n",
       "      <td>1</td>\n",
       "      <td>3</td>\n",
       "    </tr>\n",
       "    <tr>\n",
       "      <th>4</th>\n",
       "      <td>frame1670.jpg</td>\n",
       "      <td>116.190691</td>\n",
       "      <td>118.940547</td>\n",
       "      <td>45.003382</td>\n",
       "      <td>104.366894</td>\n",
       "      <td>107.662274</td>\n",
       "      <td>69.692051</td>\n",
       "      <td>0.007310</td>\n",
       "      <td>0.011866</td>\n",
       "      <td>1.859359</td>\n",
       "      <td>...</td>\n",
       "      <td>4678.495693</td>\n",
       "      <td>0.706629</td>\n",
       "      <td>0.233599</td>\n",
       "      <td>0.336896</td>\n",
       "      <td>4712.999283</td>\n",
       "      <td>0.704427</td>\n",
       "      <td>0.230218</td>\n",
       "      <td>0.346902</td>\n",
       "      <td>1</td>\n",
       "      <td>3</td>\n",
       "    </tr>\n",
       "    <tr>\n",
       "      <th>...</th>\n",
       "      <td>...</td>\n",
       "      <td>...</td>\n",
       "      <td>...</td>\n",
       "      <td>...</td>\n",
       "      <td>...</td>\n",
       "      <td>...</td>\n",
       "      <td>...</td>\n",
       "      <td>...</td>\n",
       "      <td>...</td>\n",
       "      <td>...</td>\n",
       "      <td>...</td>\n",
       "      <td>...</td>\n",
       "      <td>...</td>\n",
       "      <td>...</td>\n",
       "      <td>...</td>\n",
       "      <td>...</td>\n",
       "      <td>...</td>\n",
       "      <td>...</td>\n",
       "      <td>...</td>\n",
       "      <td>...</td>\n",
       "      <td>...</td>\n",
       "    </tr>\n",
       "    <tr>\n",
       "      <th>377</th>\n",
       "      <td>rotten (76).jpg</td>\n",
       "      <td>106.737249</td>\n",
       "      <td>97.743406</td>\n",
       "      <td>75.519806</td>\n",
       "      <td>105.085305</td>\n",
       "      <td>96.017383</td>\n",
       "      <td>91.741177</td>\n",
       "      <td>0.149670</td>\n",
       "      <td>0.141866</td>\n",
       "      <td>0.900453</td>\n",
       "      <td>...</td>\n",
       "      <td>7389.866403</td>\n",
       "      <td>0.559803</td>\n",
       "      <td>0.185691</td>\n",
       "      <td>0.303461</td>\n",
       "      <td>7970.190673</td>\n",
       "      <td>0.525660</td>\n",
       "      <td>0.178560</td>\n",
       "      <td>0.289224</td>\n",
       "      <td>3</td>\n",
       "      <td>1</td>\n",
       "    </tr>\n",
       "    <tr>\n",
       "      <th>378</th>\n",
       "      <td>rotten (77).jpg</td>\n",
       "      <td>106.010605</td>\n",
       "      <td>96.947229</td>\n",
       "      <td>74.525164</td>\n",
       "      <td>105.345455</td>\n",
       "      <td>96.214612</td>\n",
       "      <td>91.454717</td>\n",
       "      <td>0.165244</td>\n",
       "      <td>0.161727</td>\n",
       "      <td>0.927241</td>\n",
       "      <td>...</td>\n",
       "      <td>7424.253421</td>\n",
       "      <td>0.558673</td>\n",
       "      <td>0.186099</td>\n",
       "      <td>0.304358</td>\n",
       "      <td>8002.121983</td>\n",
       "      <td>0.524730</td>\n",
       "      <td>0.178271</td>\n",
       "      <td>0.289146</td>\n",
       "      <td>3</td>\n",
       "      <td>1</td>\n",
       "    </tr>\n",
       "    <tr>\n",
       "      <th>379</th>\n",
       "      <td>rotten (78).jpg</td>\n",
       "      <td>45.733415</td>\n",
       "      <td>43.053127</td>\n",
       "      <td>27.871900</td>\n",
       "      <td>60.255904</td>\n",
       "      <td>59.492773</td>\n",
       "      <td>56.207333</td>\n",
       "      <td>1.121612</td>\n",
       "      <td>1.183585</td>\n",
       "      <td>2.084023</td>\n",
       "      <td>...</td>\n",
       "      <td>2187.679256</td>\n",
       "      <td>0.651932</td>\n",
       "      <td>0.335955</td>\n",
       "      <td>0.439747</td>\n",
       "      <td>2496.271771</td>\n",
       "      <td>0.602800</td>\n",
       "      <td>0.326443</td>\n",
       "      <td>0.424537</td>\n",
       "      <td>3</td>\n",
       "      <td>0</td>\n",
       "    </tr>\n",
       "    <tr>\n",
       "      <th>380</th>\n",
       "      <td>rotten (8).jpg</td>\n",
       "      <td>44.247310</td>\n",
       "      <td>41.522629</td>\n",
       "      <td>28.731832</td>\n",
       "      <td>60.105834</td>\n",
       "      <td>59.270701</td>\n",
       "      <td>57.399567</td>\n",
       "      <td>1.236365</td>\n",
       "      <td>1.292698</td>\n",
       "      <td>2.054801</td>\n",
       "      <td>...</td>\n",
       "      <td>2421.966406</td>\n",
       "      <td>0.622728</td>\n",
       "      <td>0.317508</td>\n",
       "      <td>0.426382</td>\n",
       "      <td>2744.672166</td>\n",
       "      <td>0.572469</td>\n",
       "      <td>0.307919</td>\n",
       "      <td>0.411315</td>\n",
       "      <td>3</td>\n",
       "      <td>0</td>\n",
       "    </tr>\n",
       "    <tr>\n",
       "      <th>381</th>\n",
       "      <td>rotten (9).jpg</td>\n",
       "      <td>43.753103</td>\n",
       "      <td>41.011284</td>\n",
       "      <td>28.647512</td>\n",
       "      <td>59.861496</td>\n",
       "      <td>59.025552</td>\n",
       "      <td>57.291873</td>\n",
       "      <td>1.262221</td>\n",
       "      <td>1.320627</td>\n",
       "      <td>2.063776</td>\n",
       "      <td>...</td>\n",
       "      <td>2422.858654</td>\n",
       "      <td>0.620717</td>\n",
       "      <td>0.317344</td>\n",
       "      <td>0.427771</td>\n",
       "      <td>2740.536968</td>\n",
       "      <td>0.570955</td>\n",
       "      <td>0.307928</td>\n",
       "      <td>0.412426</td>\n",
       "      <td>3</td>\n",
       "      <td>0</td>\n",
       "    </tr>\n",
       "  </tbody>\n",
       "</table>\n",
       "<p>382 rows × 28 columns</p>\n",
       "</div>"
      ],
      "text/plain": [
       "            image_id      Mean_R      Mean_G     Mean_B       Std_R  \\\n",
       "0      frame1630.jpg  115.161583  122.328091  49.853079  101.049206   \n",
       "1      frame1640.jpg  116.392135  122.606427  49.963524  101.668523   \n",
       "2      frame1650.jpg  118.653632  124.163620  50.947316  102.266119   \n",
       "3      frame1660.jpg  113.146555  116.855483  44.294756  103.643341   \n",
       "4      frame1670.jpg  116.190691  118.940547  45.003382  104.366894   \n",
       "..               ...         ...         ...        ...         ...   \n",
       "377  rotten (76).jpg  106.737249   97.743406  75.519806  105.085305   \n",
       "378  rotten (77).jpg  106.010605   96.947229  74.525164  105.345455   \n",
       "379  rotten (78).jpg   45.733415   43.053127  27.871900   60.255904   \n",
       "380   rotten (8).jpg   44.247310   41.522629  28.731832   60.105834   \n",
       "381   rotten (9).jpg   43.753103   41.011284  28.647512   59.861496   \n",
       "\n",
       "          Std_G      Std_B    Skew_R    Skew_G    Skew_B  ...  Contrast_90  \\\n",
       "0    107.004588  74.561024 -0.005896 -0.039516  1.685786  ...  4910.721850   \n",
       "1    106.985033  74.692554 -0.019012 -0.045266  1.679812  ...  4963.587379   \n",
       "2    107.095823  74.885052 -0.048848 -0.070369  1.651600  ...  4865.912515   \n",
       "3    107.646784  69.093316  0.047591  0.044949  1.875200  ...  4640.121874   \n",
       "4    107.662274  69.692051  0.007310  0.011866  1.859359  ...  4678.495693   \n",
       "..          ...        ...       ...       ...       ...  ...          ...   \n",
       "377   96.017383  91.741177  0.149670  0.141866  0.900453  ...  7389.866403   \n",
       "378   96.214612  91.454717  0.165244  0.161727  0.927241  ...  7424.253421   \n",
       "379   59.492773  56.207333  1.121612  1.183585  2.084023  ...  2187.679256   \n",
       "380   59.270701  57.399567  1.236365  1.292698  2.054801  ...  2421.966406   \n",
       "381   59.025552  57.291873  1.262221  1.320627  2.063776  ...  2422.858654   \n",
       "\n",
       "     Correlation_90  Energy_90  Homogeneity_90  Contrast_135  Correlation_135  \\\n",
       "0          0.697122   0.211378        0.321910   5037.583798         0.689208   \n",
       "1          0.694170   0.211332        0.320002   5063.490418         0.687911   \n",
       "2          0.701881   0.214094        0.323103   5042.899009         0.690945   \n",
       "3          0.708500   0.241194        0.342850   4686.795254         0.705514   \n",
       "4          0.706629   0.233599        0.336896   4712.999283         0.704427   \n",
       "..              ...        ...             ...           ...              ...   \n",
       "377        0.559803   0.185691        0.303461   7970.190673         0.525660   \n",
       "378        0.558673   0.186099        0.304358   8002.121983         0.524730   \n",
       "379        0.651932   0.335955        0.439747   2496.271771         0.602800   \n",
       "380        0.622728   0.317508        0.426382   2744.672166         0.572469   \n",
       "381        0.620717   0.317344        0.427771   2740.536968         0.570955   \n",
       "\n",
       "     Energy_135  Homogeneity_135  Grade  assigned_clusters  \n",
       "0      0.207908         0.331710      1                  3  \n",
       "1      0.207384         0.329232      1                  3  \n",
       "2      0.210338         0.331359      1                  3  \n",
       "3      0.238083         0.352883      1                  3  \n",
       "4      0.230218         0.346902      1                  3  \n",
       "..          ...              ...    ...                ...  \n",
       "377    0.178560         0.289224      3                  1  \n",
       "378    0.178271         0.289146      3                  1  \n",
       "379    0.326443         0.424537      3                  0  \n",
       "380    0.307919         0.411315      3                  0  \n",
       "381    0.307928         0.412426      3                  0  \n",
       "\n",
       "[382 rows x 28 columns]"
      ]
     },
     "execution_count": 8,
     "metadata": {},
     "output_type": "execute_result"
    }
   ],
   "source": [
    "df"
   ]
  },
  {
   "cell_type": "code",
   "execution_count": 9,
   "id": "91e4d03e",
   "metadata": {},
   "outputs": [
    {
     "data": {
      "text/plain": [
       "0    113\n",
       "2    111\n",
       "1     80\n",
       "3     78\n",
       "Name: Grade, dtype: int64"
      ]
     },
     "execution_count": 9,
     "metadata": {},
     "output_type": "execute_result"
    }
   ],
   "source": [
    "df['Grade'].value_counts()"
   ]
  },
  {
   "cell_type": "code",
   "execution_count": 10,
   "id": "27587de6",
   "metadata": {},
   "outputs": [
    {
     "data": {
      "text/plain": [
       "3    112\n",
       "0    101\n",
       "2     85\n",
       "1     84\n",
       "Name: assigned_clusters, dtype: int64"
      ]
     },
     "execution_count": 10,
     "metadata": {},
     "output_type": "execute_result"
    }
   ],
   "source": [
    "df['assigned_clusters'].value_counts()"
   ]
  },
  {
   "cell_type": "code",
   "execution_count": 11,
   "id": "ab34017c",
   "metadata": {},
   "outputs": [
    {
     "data": {
      "text/plain": [
       "0.2570936098973762"
      ]
     },
     "execution_count": 11,
     "metadata": {},
     "output_type": "execute_result"
    }
   ],
   "source": [
    "metrics.adjusted_rand_score(df['assigned_clusters'],df['Grade'])"
   ]
  },
  {
   "cell_type": "markdown",
   "id": "7891624d",
   "metadata": {},
   "source": [
    "### Supervised Learning "
   ]
  },
  {
   "cell_type": "code",
   "execution_count": 12,
   "id": "e1ffa643",
   "metadata": {},
   "outputs": [],
   "source": [
    "X = df.drop(['image_id','Grade','assigned_clusters'],axis=1)\n",
    "y = df['Grade']"
   ]
  },
  {
   "cell_type": "code",
   "execution_count": 13,
   "id": "c3ec31f2",
   "metadata": {},
   "outputs": [],
   "source": [
    "sc1 = StandardScaler()\n",
    "X_scaled = sc1.fit_transform(X)"
   ]
  },
  {
   "cell_type": "code",
   "execution_count": 24,
   "id": "cd6ee6af",
   "metadata": {},
   "outputs": [
    {
     "data": {
      "text/plain": [
       "['BananaScaler.save']"
      ]
     },
     "execution_count": 24,
     "metadata": {},
     "output_type": "execute_result"
    }
   ],
   "source": [
    "import joblib\n",
    "joblib.dump(sc1,'BananaScaler.save')"
   ]
  },
  {
   "cell_type": "code",
   "execution_count": 14,
   "id": "6b54e3fa",
   "metadata": {},
   "outputs": [],
   "source": [
    "x_train, x_test, y_train, y_test = train_test_split(X_scaled,y,test_size=0.20,random_state=42)"
   ]
  },
  {
   "cell_type": "code",
   "execution_count": 15,
   "id": "c1c3e444",
   "metadata": {},
   "outputs": [
    {
     "data": {
      "text/html": [
       "<style type='text/css'>\n",
       ".datatable table.frame { margin-bottom: 0; }\n",
       ".datatable table.frame thead { border-bottom: none; }\n",
       ".datatable table.frame tr.coltypes td {  color: #FFFFFF;  line-height: 6px;  padding: 0 0.5em;}\n",
       ".datatable .bool    { background: #DDDD99; }\n",
       ".datatable .object  { background: #565656; }\n",
       ".datatable .int     { background: #5D9E5D; }\n",
       ".datatable .float   { background: #4040CC; }\n",
       ".datatable .str     { background: #CC4040; }\n",
       ".datatable .time    { background: #40CC40; }\n",
       ".datatable .row_index {  background: var(--jp-border-color3);  border-right: 1px solid var(--jp-border-color0);  color: var(--jp-ui-font-color3);  font-size: 9px;}\n",
       ".datatable .frame tbody td { text-align: left; }\n",
       ".datatable .frame tr.coltypes .row_index {  background: var(--jp-border-color0);}\n",
       ".datatable th:nth-child(2) { padding-left: 12px; }\n",
       ".datatable .hellipsis {  color: var(--jp-cell-editor-border-color);}\n",
       ".datatable .vellipsis {  background: var(--jp-layout-color0);  color: var(--jp-cell-editor-border-color);}\n",
       ".datatable .na {  color: var(--jp-cell-editor-border-color);  font-size: 80%;}\n",
       ".datatable .sp {  opacity: 0.25;}\n",
       ".datatable .footer { font-size: 9px; }\n",
       ".datatable .frame_dimensions {  background: var(--jp-border-color3);  border-top: 1px solid var(--jp-border-color0);  color: var(--jp-ui-font-color3);  display: inline-block;  opacity: 0.6;  padding: 1px 10px 1px 5px;}\n",
       "</style>\n"
      ],
      "text/plain": [
       "<IPython.core.display.HTML object>"
      ]
     },
     "metadata": {},
     "output_type": "display_data"
    },
    {
     "name": "stderr",
     "output_type": "stream",
     "text": [
      "100%|██████████████████████████████████████████████████████████████████████████████████| 29/29 [00:01<00:00, 26.00it/s]"
     ]
    },
    {
     "name": "stdout",
     "output_type": "stream",
     "text": [
      "                               Accuracy  Balanced Accuracy ROC AUC  F1 Score  \\\n",
      "Model                                                                          \n",
      "KNeighborsClassifier               0.94               0.95    None      0.94   \n",
      "LabelSpreading                     0.92               0.94    None      0.92   \n",
      "LabelPropagation                   0.92               0.94    None      0.92   \n",
      "BaggingClassifier                  0.90               0.90    None      0.90   \n",
      "LGBMClassifier                     0.88               0.89    None      0.89   \n",
      "XGBClassifier                      0.88               0.89    None      0.89   \n",
      "RandomForestClassifier             0.88               0.89    None      0.89   \n",
      "ExtraTreesClassifier               0.88               0.89    None      0.89   \n",
      "CalibratedClassifierCV             0.90               0.89    None      0.90   \n",
      "QuadraticDiscriminantAnalysis      0.88               0.88    None      0.89   \n",
      "LinearDiscriminantAnalysis         0.88               0.88    None      0.89   \n",
      "LinearSVC                          0.88               0.87    None      0.89   \n",
      "ExtraTreeClassifier                0.87               0.86    None      0.87   \n",
      "RidgeClassifierCV                  0.84               0.83    None      0.85   \n",
      "DecisionTreeClassifier             0.84               0.83    None      0.85   \n",
      "LogisticRegression                 0.82               0.81    None      0.82   \n",
      "NuSVC                              0.77               0.79    None      0.77   \n",
      "RidgeClassifier                    0.81               0.79    None      0.81   \n",
      "PassiveAggressiveClassifier        0.71               0.73    None      0.73   \n",
      "SGDClassifier                      0.70               0.70    None      0.71   \n",
      "Perceptron                         0.71               0.67    None      0.71   \n",
      "SVC                                0.68               0.66    None      0.68   \n",
      "AdaBoostClassifier                 0.61               0.58    None      0.61   \n",
      "GaussianNB                         0.57               0.55    None      0.59   \n",
      "BernoulliNB                        0.57               0.53    None      0.57   \n",
      "NearestCentroid                    0.53               0.51    None      0.55   \n",
      "DummyClassifier                    0.22               0.25    None      0.08   \n",
      "\n",
      "                               Time Taken  \n",
      "Model                                      \n",
      "KNeighborsClassifier                 0.03  \n",
      "LabelSpreading                       0.01  \n",
      "LabelPropagation                     0.01  \n",
      "BaggingClassifier                    0.05  \n",
      "LGBMClassifier                       0.12  \n",
      "XGBClassifier                        0.14  \n",
      "RandomForestClassifier               0.18  \n",
      "ExtraTreesClassifier                 0.11  \n",
      "CalibratedClassifierCV               0.14  \n",
      "QuadraticDiscriminantAnalysis        0.01  \n",
      "LinearDiscriminantAnalysis           0.01  \n",
      "LinearSVC                            0.03  \n",
      "ExtraTreeClassifier                  0.01  \n",
      "RidgeClassifierCV                    0.01  \n",
      "DecisionTreeClassifier               0.01  \n",
      "LogisticRegression                   0.02  \n",
      "NuSVC                                0.02  \n",
      "RidgeClassifier                      0.01  \n",
      "PassiveAggressiveClassifier          0.01  \n",
      "SGDClassifier                        0.01  \n",
      "Perceptron                           0.01  \n",
      "SVC                                  0.01  \n",
      "AdaBoostClassifier                   0.11  \n",
      "GaussianNB                           0.01  \n",
      "BernoulliNB                          0.01  \n",
      "NearestCentroid                      0.02  \n",
      "DummyClassifier                      0.01  \n"
     ]
    },
    {
     "name": "stderr",
     "output_type": "stream",
     "text": [
      "\n"
     ]
    }
   ],
   "source": [
    "import lazypredict\n",
    "from lazypredict.Supervised import LazyClassifier\n",
    "clf = LazyClassifier(verbose=0, ignore_warnings=True, custom_metric = None)\n",
    "models,predictions = clf.fit(x_train, x_test, y_train, y_test)\n",
    "print(models)"
   ]
  },
  {
   "cell_type": "code",
   "execution_count": 16,
   "id": "4e2816e8",
   "metadata": {},
   "outputs": [],
   "source": [
    "from sklearn.neighbors import KNeighborsClassifier"
   ]
  },
  {
   "cell_type": "code",
   "execution_count": 17,
   "id": "dc97562f",
   "metadata": {},
   "outputs": [
    {
     "data": {
      "text/html": [
       "<style>#sk-container-id-1 {color: black;background-color: white;}#sk-container-id-1 pre{padding: 0;}#sk-container-id-1 div.sk-toggleable {background-color: white;}#sk-container-id-1 label.sk-toggleable__label {cursor: pointer;display: block;width: 100%;margin-bottom: 0;padding: 0.3em;box-sizing: border-box;text-align: center;}#sk-container-id-1 label.sk-toggleable__label-arrow:before {content: \"▸\";float: left;margin-right: 0.25em;color: #696969;}#sk-container-id-1 label.sk-toggleable__label-arrow:hover:before {color: black;}#sk-container-id-1 div.sk-estimator:hover label.sk-toggleable__label-arrow:before {color: black;}#sk-container-id-1 div.sk-toggleable__content {max-height: 0;max-width: 0;overflow: hidden;text-align: left;background-color: #f0f8ff;}#sk-container-id-1 div.sk-toggleable__content pre {margin: 0.2em;color: black;border-radius: 0.25em;background-color: #f0f8ff;}#sk-container-id-1 input.sk-toggleable__control:checked~div.sk-toggleable__content {max-height: 200px;max-width: 100%;overflow: auto;}#sk-container-id-1 input.sk-toggleable__control:checked~label.sk-toggleable__label-arrow:before {content: \"▾\";}#sk-container-id-1 div.sk-estimator input.sk-toggleable__control:checked~label.sk-toggleable__label {background-color: #d4ebff;}#sk-container-id-1 div.sk-label input.sk-toggleable__control:checked~label.sk-toggleable__label {background-color: #d4ebff;}#sk-container-id-1 input.sk-hidden--visually {border: 0;clip: rect(1px 1px 1px 1px);clip: rect(1px, 1px, 1px, 1px);height: 1px;margin: -1px;overflow: hidden;padding: 0;position: absolute;width: 1px;}#sk-container-id-1 div.sk-estimator {font-family: monospace;background-color: #f0f8ff;border: 1px dotted black;border-radius: 0.25em;box-sizing: border-box;margin-bottom: 0.5em;}#sk-container-id-1 div.sk-estimator:hover {background-color: #d4ebff;}#sk-container-id-1 div.sk-parallel-item::after {content: \"\";width: 100%;border-bottom: 1px solid gray;flex-grow: 1;}#sk-container-id-1 div.sk-label:hover label.sk-toggleable__label {background-color: #d4ebff;}#sk-container-id-1 div.sk-serial::before {content: \"\";position: absolute;border-left: 1px solid gray;box-sizing: border-box;top: 0;bottom: 0;left: 50%;z-index: 0;}#sk-container-id-1 div.sk-serial {display: flex;flex-direction: column;align-items: center;background-color: white;padding-right: 0.2em;padding-left: 0.2em;position: relative;}#sk-container-id-1 div.sk-item {position: relative;z-index: 1;}#sk-container-id-1 div.sk-parallel {display: flex;align-items: stretch;justify-content: center;background-color: white;position: relative;}#sk-container-id-1 div.sk-item::before, #sk-container-id-1 div.sk-parallel-item::before {content: \"\";position: absolute;border-left: 1px solid gray;box-sizing: border-box;top: 0;bottom: 0;left: 50%;z-index: -1;}#sk-container-id-1 div.sk-parallel-item {display: flex;flex-direction: column;z-index: 1;position: relative;background-color: white;}#sk-container-id-1 div.sk-parallel-item:first-child::after {align-self: flex-end;width: 50%;}#sk-container-id-1 div.sk-parallel-item:last-child::after {align-self: flex-start;width: 50%;}#sk-container-id-1 div.sk-parallel-item:only-child::after {width: 0;}#sk-container-id-1 div.sk-dashed-wrapped {border: 1px dashed gray;margin: 0 0.4em 0.5em 0.4em;box-sizing: border-box;padding-bottom: 0.4em;background-color: white;}#sk-container-id-1 div.sk-label label {font-family: monospace;font-weight: bold;display: inline-block;line-height: 1.2em;}#sk-container-id-1 div.sk-label-container {text-align: center;}#sk-container-id-1 div.sk-container {/* jupyter's `normalize.less` sets `[hidden] { display: none; }` but bootstrap.min.css set `[hidden] { display: none !important; }` so we also need the `!important` here to be able to override the default hidden behavior on the sphinx rendered scikit-learn.org. See: https://github.com/scikit-learn/scikit-learn/issues/21755 */display: inline-block !important;position: relative;}#sk-container-id-1 div.sk-text-repr-fallback {display: none;}</style><div id=\"sk-container-id-1\" class=\"sk-top-container\"><div class=\"sk-text-repr-fallback\"><pre>KNeighborsClassifier()</pre><b>In a Jupyter environment, please rerun this cell to show the HTML representation or trust the notebook. <br />On GitHub, the HTML representation is unable to render, please try loading this page with nbviewer.org.</b></div><div class=\"sk-container\" hidden><div class=\"sk-item\"><div class=\"sk-estimator sk-toggleable\"><input class=\"sk-toggleable__control sk-hidden--visually\" id=\"sk-estimator-id-1\" type=\"checkbox\" checked><label for=\"sk-estimator-id-1\" class=\"sk-toggleable__label sk-toggleable__label-arrow\">KNeighborsClassifier</label><div class=\"sk-toggleable__content\"><pre>KNeighborsClassifier()</pre></div></div></div></div></div>"
      ],
      "text/plain": [
       "KNeighborsClassifier()"
      ]
     },
     "execution_count": 17,
     "metadata": {},
     "output_type": "execute_result"
    }
   ],
   "source": [
    "knn = KNeighborsClassifier(n_neighbors=5)\n",
    "knn.fit(x_train,y_train)"
   ]
  },
  {
   "cell_type": "code",
   "execution_count": 18,
   "id": "1206ae3c",
   "metadata": {},
   "outputs": [
    {
     "data": {
      "text/plain": [
       "0.935064935064935"
      ]
     },
     "execution_count": 18,
     "metadata": {},
     "output_type": "execute_result"
    }
   ],
   "source": [
    "knn.score(x_test,y_test)"
   ]
  },
  {
   "cell_type": "code",
   "execution_count": 19,
   "id": "5efa683f",
   "metadata": {},
   "outputs": [
    {
     "data": {
      "text/plain": [
       "0.9049180327868852"
      ]
     },
     "execution_count": 19,
     "metadata": {},
     "output_type": "execute_result"
    }
   ],
   "source": [
    "knn.score(x_train,y_train)"
   ]
  },
  {
   "cell_type": "code",
   "execution_count": 20,
   "id": "c62c9474",
   "metadata": {},
   "outputs": [],
   "source": [
    "y_pred = knn.predict(x_test)\n",
    "cm = metrics.confusion_matrix(y_test, y_pred)\n",
    "c = metrics.ConfusionMatrixDisplay(cm)"
   ]
  },
  {
   "cell_type": "code",
   "execution_count": 21,
   "id": "f7c593bb",
   "metadata": {},
   "outputs": [
    {
     "data": {
      "text/plain": [
       "<sklearn.metrics._plot.confusion_matrix.ConfusionMatrixDisplay at 0x1dc142ce850>"
      ]
     },
     "execution_count": 21,
     "metadata": {},
     "output_type": "execute_result"
    },
    {
     "data": {
      "image/png": "[encoded data removed]",
      "text/plain": [
       "<Figure size 640x480 with 2 Axes>"
      ]
     },
     "metadata": {},
     "output_type": "display_data"
    }
   ],
   "source": [
    "c.plot()"
   ]
  },
  {
   "cell_type": "code",
   "execution_count": 22,
   "id": "78ef3522",
   "metadata": {},
   "outputs": [
    {
     "data": {
      "text/plain": [
       "['bananamodel.joblib']"
      ]
     },
     "execution_count": 22,
     "metadata": {},
     "output_type": "execute_result"
    }
   ],
   "source": [
    "import joblib \n",
    "joblib.dump(knn,'bananamodel.joblib')"
   ]
  },
  {
   "cell_type": "code",
   "execution_count": null,
   "id": "5654f3e1",
   "metadata": {},
   "outputs": [],
   "source": []
  }
 ],
 "metadata": {
  "kernelspec": {
   "display_name": "Python 3 (ipykernel)",
   "language": "python",
   "name": "python3"
  },
  "language_info": {
   "codemirror_mode": {
    "name": "ipython",
    "version": 3
   },
   "file_extension": ".py",
   "mimetype": "text/x-python",
   "name": "python",
   "nbconvert_exporter": "python",
   "pygments_lexer": "ipython3",
   "version": "3.9.7"
  }
 },
 "nbformat": 4,
 "nbformat_minor": 5
}
