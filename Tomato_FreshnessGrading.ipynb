{
 "cells": [
  {
   "cell_type": "code",
   "execution_count": 1,
   "id": "7d3adbb2",
   "metadata": {},
   "outputs": [],
   "source": [
    "import pandas as pd\n",
    "import numpy as np\n",
    "import matplotlib.pyplot as plt\n",
    "import seaborn as sns\n",
    "from sklearn.preprocessing import StandardScaler\n",
    "from sklearn.model_selection import train_test_split\n",
    "from sklearn.cluster import KMeans\n",
    "from sklearn import metrics"
   ]
  },
  {
   "cell_type": "code",
   "execution_count": 2,
   "id": "1d3f1e69",
   "metadata": {},
   "outputs": [],
   "source": [
    "df = pd.read_csv('Tomato.csv')"
   ]
  },
  {
   "cell_type": "code",
   "execution_count": 3,
   "id": "dc6a26b9",
   "metadata": {},
   "outputs": [
    {
     "data": {
      "text/html": [
       "<div>\n",
       "<style scoped>\n",
       "    .dataframe tbody tr th:only-of-type {\n",
       "        vertical-align: middle;\n",
       "    }\n",
       "\n",
       "    .dataframe tbody tr th {\n",
       "        vertical-align: top;\n",
       "    }\n",
       "\n",
       "    .dataframe thead th {\n",
       "        text-align: right;\n",
       "    }\n",
       "</style>\n",
       "<table border=\"1\" class=\"dataframe\">\n",
       "  <thead>\n",
       "    <tr style=\"text-align: right;\">\n",
       "      <th></th>\n",
       "      <th>image_id</th>\n",
       "      <th>Mean_R</th>\n",
       "      <th>Mean_G</th>\n",
       "      <th>Mean_B</th>\n",
       "      <th>Std_R</th>\n",
       "      <th>Std_G</th>\n",
       "      <th>Std_B</th>\n",
       "      <th>Skew_R</th>\n",
       "      <th>Skew_G</th>\n",
       "      <th>Skew_B</th>\n",
       "      <th>...</th>\n",
       "      <th>Homogeneity_45</th>\n",
       "      <th>Contrast_90</th>\n",
       "      <th>Correlation_90</th>\n",
       "      <th>Energy_90</th>\n",
       "      <th>Homogeneity_90</th>\n",
       "      <th>Contrast_135</th>\n",
       "      <th>Correlation_135</th>\n",
       "      <th>Energy_135</th>\n",
       "      <th>Homogeneity_135</th>\n",
       "      <th>Grade</th>\n",
       "    </tr>\n",
       "  </thead>\n",
       "  <tbody>\n",
       "    <tr>\n",
       "      <th>0</th>\n",
       "      <td>frame110.jpg</td>\n",
       "      <td>76.718346</td>\n",
       "      <td>27.990320</td>\n",
       "      <td>17.086820</td>\n",
       "      <td>106.667204</td>\n",
       "      <td>51.014825</td>\n",
       "      <td>42.349059</td>\n",
       "      <td>0.782999</td>\n",
       "      <td>2.192736</td>\n",
       "      <td>3.338703</td>\n",
       "      <td>...</td>\n",
       "      <td>0.575056</td>\n",
       "      <td>548.281912</td>\n",
       "      <td>0.894712</td>\n",
       "      <td>0.514432</td>\n",
       "      <td>0.586606</td>\n",
       "      <td>700.066841</td>\n",
       "      <td>0.865858</td>\n",
       "      <td>0.508822</td>\n",
       "      <td>0.573172</td>\n",
       "      <td>1</td>\n",
       "    </tr>\n",
       "    <tr>\n",
       "      <th>1</th>\n",
       "      <td>frame240.jpg</td>\n",
       "      <td>113.034349</td>\n",
       "      <td>35.532920</td>\n",
       "      <td>21.010144</td>\n",
       "      <td>84.893457</td>\n",
       "      <td>48.958522</td>\n",
       "      <td>45.818761</td>\n",
       "      <td>-0.280012</td>\n",
       "      <td>2.067089</td>\n",
       "      <td>2.994477</td>\n",
       "      <td>...</td>\n",
       "      <td>0.285918</td>\n",
       "      <td>517.658656</td>\n",
       "      <td>0.888940</td>\n",
       "      <td>0.155666</td>\n",
       "      <td>0.304593</td>\n",
       "      <td>608.939337</td>\n",
       "      <td>0.869540</td>\n",
       "      <td>0.152218</td>\n",
       "      <td>0.284119</td>\n",
       "      <td>1</td>\n",
       "    </tr>\n",
       "    <tr>\n",
       "      <th>2</th>\n",
       "      <td>frame250.jpg</td>\n",
       "      <td>113.675066</td>\n",
       "      <td>36.256742</td>\n",
       "      <td>21.727671</td>\n",
       "      <td>85.073852</td>\n",
       "      <td>49.927705</td>\n",
       "      <td>46.959050</td>\n",
       "      <td>-0.287860</td>\n",
       "      <td>2.033024</td>\n",
       "      <td>2.924368</td>\n",
       "      <td>...</td>\n",
       "      <td>0.289214</td>\n",
       "      <td>518.915166</td>\n",
       "      <td>0.892924</td>\n",
       "      <td>0.158095</td>\n",
       "      <td>0.306950</td>\n",
       "      <td>610.949998</td>\n",
       "      <td>0.874106</td>\n",
       "      <td>0.154410</td>\n",
       "      <td>0.287049</td>\n",
       "      <td>1</td>\n",
       "    </tr>\n",
       "    <tr>\n",
       "      <th>3</th>\n",
       "      <td>frame260.jpg</td>\n",
       "      <td>114.171972</td>\n",
       "      <td>37.246604</td>\n",
       "      <td>22.722233</td>\n",
       "      <td>85.157021</td>\n",
       "      <td>51.456534</td>\n",
       "      <td>48.680782</td>\n",
       "      <td>-0.296853</td>\n",
       "      <td>2.000309</td>\n",
       "      <td>2.833765</td>\n",
       "      <td>...</td>\n",
       "      <td>0.291988</td>\n",
       "      <td>536.628384</td>\n",
       "      <td>0.895440</td>\n",
       "      <td>0.161716</td>\n",
       "      <td>0.308869</td>\n",
       "      <td>614.350513</td>\n",
       "      <td>0.880460</td>\n",
       "      <td>0.157598</td>\n",
       "      <td>0.289676</td>\n",
       "      <td>1</td>\n",
       "    </tr>\n",
       "    <tr>\n",
       "      <th>4</th>\n",
       "      <td>frame270.jpg</td>\n",
       "      <td>114.251510</td>\n",
       "      <td>38.055804</td>\n",
       "      <td>23.651326</td>\n",
       "      <td>85.102833</td>\n",
       "      <td>52.943685</td>\n",
       "      <td>50.252845</td>\n",
       "      <td>-0.295871</td>\n",
       "      <td>1.973671</td>\n",
       "      <td>2.749690</td>\n",
       "      <td>...</td>\n",
       "      <td>0.291449</td>\n",
       "      <td>546.893655</td>\n",
       "      <td>0.898911</td>\n",
       "      <td>0.162191</td>\n",
       "      <td>0.307668</td>\n",
       "      <td>628.548930</td>\n",
       "      <td>0.883980</td>\n",
       "      <td>0.158199</td>\n",
       "      <td>0.288832</td>\n",
       "      <td>1</td>\n",
       "    </tr>\n",
       "    <tr>\n",
       "      <th>...</th>\n",
       "      <td>...</td>\n",
       "      <td>...</td>\n",
       "      <td>...</td>\n",
       "      <td>...</td>\n",
       "      <td>...</td>\n",
       "      <td>...</td>\n",
       "      <td>...</td>\n",
       "      <td>...</td>\n",
       "      <td>...</td>\n",
       "      <td>...</td>\n",
       "      <td>...</td>\n",
       "      <td>...</td>\n",
       "      <td>...</td>\n",
       "      <td>...</td>\n",
       "      <td>...</td>\n",
       "      <td>...</td>\n",
       "      <td>...</td>\n",
       "      <td>...</td>\n",
       "      <td>...</td>\n",
       "      <td>...</td>\n",
       "      <td>...</td>\n",
       "    </tr>\n",
       "    <tr>\n",
       "      <th>264</th>\n",
       "      <td>rotten (95).jpg</td>\n",
       "      <td>57.154683</td>\n",
       "      <td>44.075770</td>\n",
       "      <td>40.624102</td>\n",
       "      <td>66.608523</td>\n",
       "      <td>54.257840</td>\n",
       "      <td>52.086966</td>\n",
       "      <td>0.906762</td>\n",
       "      <td>1.114390</td>\n",
       "      <td>1.275525</td>\n",
       "      <td>...</td>\n",
       "      <td>0.387032</td>\n",
       "      <td>974.044165</td>\n",
       "      <td>0.832085</td>\n",
       "      <td>0.294045</td>\n",
       "      <td>0.420737</td>\n",
       "      <td>1333.848155</td>\n",
       "      <td>0.770263</td>\n",
       "      <td>0.281587</td>\n",
       "      <td>0.383221</td>\n",
       "      <td>2</td>\n",
       "    </tr>\n",
       "    <tr>\n",
       "      <th>265</th>\n",
       "      <td>rotten (96).jpg</td>\n",
       "      <td>43.692381</td>\n",
       "      <td>40.855193</td>\n",
       "      <td>48.390881</td>\n",
       "      <td>58.545949</td>\n",
       "      <td>55.491366</td>\n",
       "      <td>62.886003</td>\n",
       "      <td>1.341146</td>\n",
       "      <td>1.358163</td>\n",
       "      <td>1.187897</td>\n",
       "      <td>...</td>\n",
       "      <td>0.398960</td>\n",
       "      <td>941.528198</td>\n",
       "      <td>0.856032</td>\n",
       "      <td>0.298614</td>\n",
       "      <td>0.432035</td>\n",
       "      <td>1301.040961</td>\n",
       "      <td>0.801301</td>\n",
       "      <td>0.287295</td>\n",
       "      <td>0.398924</td>\n",
       "      <td>2</td>\n",
       "    </tr>\n",
       "    <tr>\n",
       "      <th>266</th>\n",
       "      <td>rotten (97).jpg</td>\n",
       "      <td>61.445004</td>\n",
       "      <td>51.428911</td>\n",
       "      <td>48.240715</td>\n",
       "      <td>75.639094</td>\n",
       "      <td>69.162184</td>\n",
       "      <td>67.200263</td>\n",
       "      <td>0.777180</td>\n",
       "      <td>1.000821</td>\n",
       "      <td>1.108749</td>\n",
       "      <td>...</td>\n",
       "      <td>0.399185</td>\n",
       "      <td>1785.991467</td>\n",
       "      <td>0.810749</td>\n",
       "      <td>0.314487</td>\n",
       "      <td>0.433509</td>\n",
       "      <td>2285.663441</td>\n",
       "      <td>0.758081</td>\n",
       "      <td>0.302088</td>\n",
       "      <td>0.395916</td>\n",
       "      <td>2</td>\n",
       "    </tr>\n",
       "    <tr>\n",
       "      <th>267</th>\n",
       "      <td>rotten (98).jpg</td>\n",
       "      <td>51.568321</td>\n",
       "      <td>45.710164</td>\n",
       "      <td>46.907582</td>\n",
       "      <td>62.844159</td>\n",
       "      <td>57.412480</td>\n",
       "      <td>58.454855</td>\n",
       "      <td>1.114923</td>\n",
       "      <td>1.168714</td>\n",
       "      <td>1.124631</td>\n",
       "      <td>...</td>\n",
       "      <td>0.363068</td>\n",
       "      <td>873.240460</td>\n",
       "      <td>0.867424</td>\n",
       "      <td>0.261283</td>\n",
       "      <td>0.395752</td>\n",
       "      <td>1208.687744</td>\n",
       "      <td>0.816675</td>\n",
       "      <td>0.249425</td>\n",
       "      <td>0.365883</td>\n",
       "      <td>2</td>\n",
       "    </tr>\n",
       "    <tr>\n",
       "      <th>268</th>\n",
       "      <td>rotten (99).jpg</td>\n",
       "      <td>56.238051</td>\n",
       "      <td>42.651590</td>\n",
       "      <td>38.996994</td>\n",
       "      <td>66.373246</td>\n",
       "      <td>50.048126</td>\n",
       "      <td>45.952746</td>\n",
       "      <td>1.057762</td>\n",
       "      <td>1.214808</td>\n",
       "      <td>1.290996</td>\n",
       "      <td>...</td>\n",
       "      <td>0.379968</td>\n",
       "      <td>638.815449</td>\n",
       "      <td>0.869407</td>\n",
       "      <td>0.279048</td>\n",
       "      <td>0.418983</td>\n",
       "      <td>924.928901</td>\n",
       "      <td>0.811037</td>\n",
       "      <td>0.265805</td>\n",
       "      <td>0.381157</td>\n",
       "      <td>2</td>\n",
       "    </tr>\n",
       "  </tbody>\n",
       "</table>\n",
       "<p>269 rows × 27 columns</p>\n",
       "</div>"
      ],
      "text/plain": [
       "            image_id      Mean_R     Mean_G     Mean_B       Std_R      Std_G  \\\n",
       "0       frame110.jpg   76.718346  27.990320  17.086820  106.667204  51.014825   \n",
       "1       frame240.jpg  113.034349  35.532920  21.010144   84.893457  48.958522   \n",
       "2       frame250.jpg  113.675066  36.256742  21.727671   85.073852  49.927705   \n",
       "3       frame260.jpg  114.171972  37.246604  22.722233   85.157021  51.456534   \n",
       "4       frame270.jpg  114.251510  38.055804  23.651326   85.102833  52.943685   \n",
       "..               ...         ...        ...        ...         ...        ...   \n",
       "264  rotten (95).jpg   57.154683  44.075770  40.624102   66.608523  54.257840   \n",
       "265  rotten (96).jpg   43.692381  40.855193  48.390881   58.545949  55.491366   \n",
       "266  rotten (97).jpg   61.445004  51.428911  48.240715   75.639094  69.162184   \n",
       "267  rotten (98).jpg   51.568321  45.710164  46.907582   62.844159  57.412480   \n",
       "268  rotten (99).jpg   56.238051  42.651590  38.996994   66.373246  50.048126   \n",
       "\n",
       "         Std_B    Skew_R    Skew_G    Skew_B  ...  Homogeneity_45  \\\n",
       "0    42.349059  0.782999  2.192736  3.338703  ...        0.575056   \n",
       "1    45.818761 -0.280012  2.067089  2.994477  ...        0.285918   \n",
       "2    46.959050 -0.287860  2.033024  2.924368  ...        0.289214   \n",
       "3    48.680782 -0.296853  2.000309  2.833765  ...        0.291988   \n",
       "4    50.252845 -0.295871  1.973671  2.749690  ...        0.291449   \n",
       "..         ...       ...       ...       ...  ...             ...   \n",
       "264  52.086966  0.906762  1.114390  1.275525  ...        0.387032   \n",
       "265  62.886003  1.341146  1.358163  1.187897  ...        0.398960   \n",
       "266  67.200263  0.777180  1.000821  1.108749  ...        0.399185   \n",
       "267  58.454855  1.114923  1.168714  1.124631  ...        0.363068   \n",
       "268  45.952746  1.057762  1.214808  1.290996  ...        0.379968   \n",
       "\n",
       "     Contrast_90  Correlation_90  Energy_90  Homogeneity_90  Contrast_135  \\\n",
       "0     548.281912        0.894712   0.514432        0.586606    700.066841   \n",
       "1     517.658656        0.888940   0.155666        0.304593    608.939337   \n",
       "2     518.915166        0.892924   0.158095        0.306950    610.949998   \n",
       "3     536.628384        0.895440   0.161716        0.308869    614.350513   \n",
       "4     546.893655        0.898911   0.162191        0.307668    628.548930   \n",
       "..           ...             ...        ...             ...           ...   \n",
       "264   974.044165        0.832085   0.294045        0.420737   1333.848155   \n",
       "265   941.528198        0.856032   0.298614        0.432035   1301.040961   \n",
       "266  1785.991467        0.810749   0.314487        0.433509   2285.663441   \n",
       "267   873.240460        0.867424   0.261283        0.395752   1208.687744   \n",
       "268   638.815449        0.869407   0.279048        0.418983    924.928901   \n",
       "\n",
       "     Correlation_135  Energy_135  Homogeneity_135  Grade  \n",
       "0           0.865858    0.508822         0.573172      1  \n",
       "1           0.869540    0.152218         0.284119      1  \n",
       "2           0.874106    0.154410         0.287049      1  \n",
       "3           0.880460    0.157598         0.289676      1  \n",
       "4           0.883980    0.158199         0.288832      1  \n",
       "..               ...         ...              ...    ...  \n",
       "264         0.770263    0.281587         0.383221      2  \n",
       "265         0.801301    0.287295         0.398924      2  \n",
       "266         0.758081    0.302088         0.395916      2  \n",
       "267         0.816675    0.249425         0.365883      2  \n",
       "268         0.811037    0.265805         0.381157      2  \n",
       "\n",
       "[269 rows x 27 columns]"
      ]
     },
     "execution_count": 3,
     "metadata": {},
     "output_type": "execute_result"
    }
   ],
   "source": [
    "df"
   ]
  },
  {
   "cell_type": "markdown",
   "id": "e9521fc0",
   "metadata": {},
   "source": [
    "### Clustering "
   ]
  },
  {
   "cell_type": "code",
   "execution_count": 4,
   "id": "85ea3101",
   "metadata": {},
   "outputs": [],
   "source": [
    "X = df.drop(['image_id','Grade'],axis=1)"
   ]
  },
  {
   "cell_type": "code",
   "execution_count": 5,
   "id": "1a2145a2",
   "metadata": {},
   "outputs": [],
   "source": [
    "scaler = StandardScaler()\n",
    "X_scaled = scaler.fit_transform(X)"
   ]
  },
  {
   "cell_type": "code",
   "execution_count": 6,
   "id": "1632c8b7",
   "metadata": {},
   "outputs": [
    {
     "data": {
      "text/plain": [
       "array([[-0.37770733, -1.54559538, -2.41416431, ...,  1.10939815,\n",
       "         0.75839704,  0.76830089],\n",
       "       [ 0.64172533, -0.98873865, -1.95761923, ...,  1.18709919,\n",
       "        -1.05125404, -1.03491634],\n",
       "       [ 0.65971101, -0.93530019, -1.87412281, ...,  1.28343803,\n",
       "        -1.04012953, -1.01664226],\n",
       "       ...,\n",
       "       [-0.80644786,  0.18483402,  1.21111819, ..., -1.16487726,\n",
       "        -0.29071007, -0.33748938],\n",
       "       [-1.0836979 , -0.23737086,  1.05598567, ...,  0.07155836,\n",
       "        -0.5579621 , -0.52484536],\n",
       "       [-0.95261312, -0.46317995,  0.13545496, ..., -0.04740501,\n",
       "        -0.4748365 , -0.42955819]])"
      ]
     },
     "execution_count": 6,
     "metadata": {},
     "output_type": "execute_result"
    }
   ],
   "source": [
    "X_scaled"
   ]
  },
  {
   "cell_type": "code",
   "execution_count": 7,
   "id": "ce8f6c69",
   "metadata": {},
   "outputs": [
    {
     "name": "stderr",
     "output_type": "stream",
     "text": [
      "C:\\Users\\JAINAM\\anaconda3\\lib\\site-packages\\sklearn\\cluster\\_kmeans.py:870: FutureWarning: The default value of `n_init` will change from 10 to 'auto' in 1.4. Set the value of `n_init` explicitly to suppress the warning\n",
      "  warnings.warn(\n",
      "C:\\Users\\JAINAM\\anaconda3\\lib\\site-packages\\sklearn\\cluster\\_kmeans.py:1382: UserWarning: KMeans is known to have a memory leak on Windows with MKL, when there are less chunks than available threads. You can avoid it by setting the environment variable OMP_NUM_THREADS=2.\n",
      "  warnings.warn(\n"
     ]
    }
   ],
   "source": [
    "km_clust = KMeans(n_clusters=3)\n",
    "assigned_clusters = km_clust.fit_predict(X_scaled)"
   ]
  },
  {
   "cell_type": "code",
   "execution_count": 8,
   "id": "2076de98",
   "metadata": {},
   "outputs": [],
   "source": [
    "df['assigned_clusters'] = assigned_clusters"
   ]
  },
  {
   "cell_type": "code",
   "execution_count": 9,
   "id": "80b1650b",
   "metadata": {},
   "outputs": [
    {
     "data": {
      "text/html": [
       "<div>\n",
       "<style scoped>\n",
       "    .dataframe tbody tr th:only-of-type {\n",
       "        vertical-align: middle;\n",
       "    }\n",
       "\n",
       "    .dataframe tbody tr th {\n",
       "        vertical-align: top;\n",
       "    }\n",
       "\n",
       "    .dataframe thead th {\n",
       "        text-align: right;\n",
       "    }\n",
       "</style>\n",
       "<table border=\"1\" class=\"dataframe\">\n",
       "  <thead>\n",
       "    <tr style=\"text-align: right;\">\n",
       "      <th></th>\n",
       "      <th>image_id</th>\n",
       "      <th>Mean_R</th>\n",
       "      <th>Mean_G</th>\n",
       "      <th>Mean_B</th>\n",
       "      <th>Std_R</th>\n",
       "      <th>Std_G</th>\n",
       "      <th>Std_B</th>\n",
       "      <th>Skew_R</th>\n",
       "      <th>Skew_G</th>\n",
       "      <th>Skew_B</th>\n",
       "      <th>...</th>\n",
       "      <th>Contrast_90</th>\n",
       "      <th>Correlation_90</th>\n",
       "      <th>Energy_90</th>\n",
       "      <th>Homogeneity_90</th>\n",
       "      <th>Contrast_135</th>\n",
       "      <th>Correlation_135</th>\n",
       "      <th>Energy_135</th>\n",
       "      <th>Homogeneity_135</th>\n",
       "      <th>Grade</th>\n",
       "      <th>assigned_clusters</th>\n",
       "    </tr>\n",
       "  </thead>\n",
       "  <tbody>\n",
       "    <tr>\n",
       "      <th>0</th>\n",
       "      <td>frame110.jpg</td>\n",
       "      <td>76.718346</td>\n",
       "      <td>27.990320</td>\n",
       "      <td>17.086820</td>\n",
       "      <td>106.667204</td>\n",
       "      <td>51.014825</td>\n",
       "      <td>42.349059</td>\n",
       "      <td>0.782999</td>\n",
       "      <td>2.192736</td>\n",
       "      <td>3.338703</td>\n",
       "      <td>...</td>\n",
       "      <td>548.281912</td>\n",
       "      <td>0.894712</td>\n",
       "      <td>0.514432</td>\n",
       "      <td>0.586606</td>\n",
       "      <td>700.066841</td>\n",
       "      <td>0.865858</td>\n",
       "      <td>0.508822</td>\n",
       "      <td>0.573172</td>\n",
       "      <td>1</td>\n",
       "      <td>2</td>\n",
       "    </tr>\n",
       "    <tr>\n",
       "      <th>1</th>\n",
       "      <td>frame240.jpg</td>\n",
       "      <td>113.034349</td>\n",
       "      <td>35.532920</td>\n",
       "      <td>21.010144</td>\n",
       "      <td>84.893457</td>\n",
       "      <td>48.958522</td>\n",
       "      <td>45.818761</td>\n",
       "      <td>-0.280012</td>\n",
       "      <td>2.067089</td>\n",
       "      <td>2.994477</td>\n",
       "      <td>...</td>\n",
       "      <td>517.658656</td>\n",
       "      <td>0.888940</td>\n",
       "      <td>0.155666</td>\n",
       "      <td>0.304593</td>\n",
       "      <td>608.939337</td>\n",
       "      <td>0.869540</td>\n",
       "      <td>0.152218</td>\n",
       "      <td>0.284119</td>\n",
       "      <td>1</td>\n",
       "      <td>1</td>\n",
       "    </tr>\n",
       "    <tr>\n",
       "      <th>2</th>\n",
       "      <td>frame250.jpg</td>\n",
       "      <td>113.675066</td>\n",
       "      <td>36.256742</td>\n",
       "      <td>21.727671</td>\n",
       "      <td>85.073852</td>\n",
       "      <td>49.927705</td>\n",
       "      <td>46.959050</td>\n",
       "      <td>-0.287860</td>\n",
       "      <td>2.033024</td>\n",
       "      <td>2.924368</td>\n",
       "      <td>...</td>\n",
       "      <td>518.915166</td>\n",
       "      <td>0.892924</td>\n",
       "      <td>0.158095</td>\n",
       "      <td>0.306950</td>\n",
       "      <td>610.949998</td>\n",
       "      <td>0.874106</td>\n",
       "      <td>0.154410</td>\n",
       "      <td>0.287049</td>\n",
       "      <td>1</td>\n",
       "      <td>1</td>\n",
       "    </tr>\n",
       "    <tr>\n",
       "      <th>3</th>\n",
       "      <td>frame260.jpg</td>\n",
       "      <td>114.171972</td>\n",
       "      <td>37.246604</td>\n",
       "      <td>22.722233</td>\n",
       "      <td>85.157021</td>\n",
       "      <td>51.456534</td>\n",
       "      <td>48.680782</td>\n",
       "      <td>-0.296853</td>\n",
       "      <td>2.000309</td>\n",
       "      <td>2.833765</td>\n",
       "      <td>...</td>\n",
       "      <td>536.628384</td>\n",
       "      <td>0.895440</td>\n",
       "      <td>0.161716</td>\n",
       "      <td>0.308869</td>\n",
       "      <td>614.350513</td>\n",
       "      <td>0.880460</td>\n",
       "      <td>0.157598</td>\n",
       "      <td>0.289676</td>\n",
       "      <td>1</td>\n",
       "      <td>1</td>\n",
       "    </tr>\n",
       "    <tr>\n",
       "      <th>4</th>\n",
       "      <td>frame270.jpg</td>\n",
       "      <td>114.251510</td>\n",
       "      <td>38.055804</td>\n",
       "      <td>23.651326</td>\n",
       "      <td>85.102833</td>\n",
       "      <td>52.943685</td>\n",
       "      <td>50.252845</td>\n",
       "      <td>-0.295871</td>\n",
       "      <td>1.973671</td>\n",
       "      <td>2.749690</td>\n",
       "      <td>...</td>\n",
       "      <td>546.893655</td>\n",
       "      <td>0.898911</td>\n",
       "      <td>0.162191</td>\n",
       "      <td>0.307668</td>\n",
       "      <td>628.548930</td>\n",
       "      <td>0.883980</td>\n",
       "      <td>0.158199</td>\n",
       "      <td>0.288832</td>\n",
       "      <td>1</td>\n",
       "      <td>1</td>\n",
       "    </tr>\n",
       "    <tr>\n",
       "      <th>...</th>\n",
       "      <td>...</td>\n",
       "      <td>...</td>\n",
       "      <td>...</td>\n",
       "      <td>...</td>\n",
       "      <td>...</td>\n",
       "      <td>...</td>\n",
       "      <td>...</td>\n",
       "      <td>...</td>\n",
       "      <td>...</td>\n",
       "      <td>...</td>\n",
       "      <td>...</td>\n",
       "      <td>...</td>\n",
       "      <td>...</td>\n",
       "      <td>...</td>\n",
       "      <td>...</td>\n",
       "      <td>...</td>\n",
       "      <td>...</td>\n",
       "      <td>...</td>\n",
       "      <td>...</td>\n",
       "      <td>...</td>\n",
       "      <td>...</td>\n",
       "    </tr>\n",
       "    <tr>\n",
       "      <th>264</th>\n",
       "      <td>rotten (95).jpg</td>\n",
       "      <td>57.154683</td>\n",
       "      <td>44.075770</td>\n",
       "      <td>40.624102</td>\n",
       "      <td>66.608523</td>\n",
       "      <td>54.257840</td>\n",
       "      <td>52.086966</td>\n",
       "      <td>0.906762</td>\n",
       "      <td>1.114390</td>\n",
       "      <td>1.275525</td>\n",
       "      <td>...</td>\n",
       "      <td>974.044165</td>\n",
       "      <td>0.832085</td>\n",
       "      <td>0.294045</td>\n",
       "      <td>0.420737</td>\n",
       "      <td>1333.848155</td>\n",
       "      <td>0.770263</td>\n",
       "      <td>0.281587</td>\n",
       "      <td>0.383221</td>\n",
       "      <td>2</td>\n",
       "      <td>2</td>\n",
       "    </tr>\n",
       "    <tr>\n",
       "      <th>265</th>\n",
       "      <td>rotten (96).jpg</td>\n",
       "      <td>43.692381</td>\n",
       "      <td>40.855193</td>\n",
       "      <td>48.390881</td>\n",
       "      <td>58.545949</td>\n",
       "      <td>55.491366</td>\n",
       "      <td>62.886003</td>\n",
       "      <td>1.341146</td>\n",
       "      <td>1.358163</td>\n",
       "      <td>1.187897</td>\n",
       "      <td>...</td>\n",
       "      <td>941.528198</td>\n",
       "      <td>0.856032</td>\n",
       "      <td>0.298614</td>\n",
       "      <td>0.432035</td>\n",
       "      <td>1301.040961</td>\n",
       "      <td>0.801301</td>\n",
       "      <td>0.287295</td>\n",
       "      <td>0.398924</td>\n",
       "      <td>2</td>\n",
       "      <td>2</td>\n",
       "    </tr>\n",
       "    <tr>\n",
       "      <th>266</th>\n",
       "      <td>rotten (97).jpg</td>\n",
       "      <td>61.445004</td>\n",
       "      <td>51.428911</td>\n",
       "      <td>48.240715</td>\n",
       "      <td>75.639094</td>\n",
       "      <td>69.162184</td>\n",
       "      <td>67.200263</td>\n",
       "      <td>0.777180</td>\n",
       "      <td>1.000821</td>\n",
       "      <td>1.108749</td>\n",
       "      <td>...</td>\n",
       "      <td>1785.991467</td>\n",
       "      <td>0.810749</td>\n",
       "      <td>0.314487</td>\n",
       "      <td>0.433509</td>\n",
       "      <td>2285.663441</td>\n",
       "      <td>0.758081</td>\n",
       "      <td>0.302088</td>\n",
       "      <td>0.395916</td>\n",
       "      <td>2</td>\n",
       "      <td>2</td>\n",
       "    </tr>\n",
       "    <tr>\n",
       "      <th>267</th>\n",
       "      <td>rotten (98).jpg</td>\n",
       "      <td>51.568321</td>\n",
       "      <td>45.710164</td>\n",
       "      <td>46.907582</td>\n",
       "      <td>62.844159</td>\n",
       "      <td>57.412480</td>\n",
       "      <td>58.454855</td>\n",
       "      <td>1.114923</td>\n",
       "      <td>1.168714</td>\n",
       "      <td>1.124631</td>\n",
       "      <td>...</td>\n",
       "      <td>873.240460</td>\n",
       "      <td>0.867424</td>\n",
       "      <td>0.261283</td>\n",
       "      <td>0.395752</td>\n",
       "      <td>1208.687744</td>\n",
       "      <td>0.816675</td>\n",
       "      <td>0.249425</td>\n",
       "      <td>0.365883</td>\n",
       "      <td>2</td>\n",
       "      <td>2</td>\n",
       "    </tr>\n",
       "    <tr>\n",
       "      <th>268</th>\n",
       "      <td>rotten (99).jpg</td>\n",
       "      <td>56.238051</td>\n",
       "      <td>42.651590</td>\n",
       "      <td>38.996994</td>\n",
       "      <td>66.373246</td>\n",
       "      <td>50.048126</td>\n",
       "      <td>45.952746</td>\n",
       "      <td>1.057762</td>\n",
       "      <td>1.214808</td>\n",
       "      <td>1.290996</td>\n",
       "      <td>...</td>\n",
       "      <td>638.815449</td>\n",
       "      <td>0.869407</td>\n",
       "      <td>0.279048</td>\n",
       "      <td>0.418983</td>\n",
       "      <td>924.928901</td>\n",
       "      <td>0.811037</td>\n",
       "      <td>0.265805</td>\n",
       "      <td>0.381157</td>\n",
       "      <td>2</td>\n",
       "      <td>2</td>\n",
       "    </tr>\n",
       "  </tbody>\n",
       "</table>\n",
       "<p>269 rows × 28 columns</p>\n",
       "</div>"
      ],
      "text/plain": [
       "            image_id      Mean_R     Mean_G     Mean_B       Std_R      Std_G  \\\n",
       "0       frame110.jpg   76.718346  27.990320  17.086820  106.667204  51.014825   \n",
       "1       frame240.jpg  113.034349  35.532920  21.010144   84.893457  48.958522   \n",
       "2       frame250.jpg  113.675066  36.256742  21.727671   85.073852  49.927705   \n",
       "3       frame260.jpg  114.171972  37.246604  22.722233   85.157021  51.456534   \n",
       "4       frame270.jpg  114.251510  38.055804  23.651326   85.102833  52.943685   \n",
       "..               ...         ...        ...        ...         ...        ...   \n",
       "264  rotten (95).jpg   57.154683  44.075770  40.624102   66.608523  54.257840   \n",
       "265  rotten (96).jpg   43.692381  40.855193  48.390881   58.545949  55.491366   \n",
       "266  rotten (97).jpg   61.445004  51.428911  48.240715   75.639094  69.162184   \n",
       "267  rotten (98).jpg   51.568321  45.710164  46.907582   62.844159  57.412480   \n",
       "268  rotten (99).jpg   56.238051  42.651590  38.996994   66.373246  50.048126   \n",
       "\n",
       "         Std_B    Skew_R    Skew_G    Skew_B  ...  Contrast_90  \\\n",
       "0    42.349059  0.782999  2.192736  3.338703  ...   548.281912   \n",
       "1    45.818761 -0.280012  2.067089  2.994477  ...   517.658656   \n",
       "2    46.959050 -0.287860  2.033024  2.924368  ...   518.915166   \n",
       "3    48.680782 -0.296853  2.000309  2.833765  ...   536.628384   \n",
       "4    50.252845 -0.295871  1.973671  2.749690  ...   546.893655   \n",
       "..         ...       ...       ...       ...  ...          ...   \n",
       "264  52.086966  0.906762  1.114390  1.275525  ...   974.044165   \n",
       "265  62.886003  1.341146  1.358163  1.187897  ...   941.528198   \n",
       "266  67.200263  0.777180  1.000821  1.108749  ...  1785.991467   \n",
       "267  58.454855  1.114923  1.168714  1.124631  ...   873.240460   \n",
       "268  45.952746  1.057762  1.214808  1.290996  ...   638.815449   \n",
       "\n",
       "     Correlation_90  Energy_90  Homogeneity_90  Contrast_135  Correlation_135  \\\n",
       "0          0.894712   0.514432        0.586606    700.066841         0.865858   \n",
       "1          0.888940   0.155666        0.304593    608.939337         0.869540   \n",
       "2          0.892924   0.158095        0.306950    610.949998         0.874106   \n",
       "3          0.895440   0.161716        0.308869    614.350513         0.880460   \n",
       "4          0.898911   0.162191        0.307668    628.548930         0.883980   \n",
       "..              ...        ...             ...           ...              ...   \n",
       "264        0.832085   0.294045        0.420737   1333.848155         0.770263   \n",
       "265        0.856032   0.298614        0.432035   1301.040961         0.801301   \n",
       "266        0.810749   0.314487        0.433509   2285.663441         0.758081   \n",
       "267        0.867424   0.261283        0.395752   1208.687744         0.816675   \n",
       "268        0.869407   0.279048        0.418983    924.928901         0.811037   \n",
       "\n",
       "     Energy_135  Homogeneity_135  Grade  assigned_clusters  \n",
       "0      0.508822         0.573172      1                  2  \n",
       "1      0.152218         0.284119      1                  1  \n",
       "2      0.154410         0.287049      1                  1  \n",
       "3      0.157598         0.289676      1                  1  \n",
       "4      0.158199         0.288832      1                  1  \n",
       "..          ...              ...    ...                ...  \n",
       "264    0.281587         0.383221      2                  2  \n",
       "265    0.287295         0.398924      2                  2  \n",
       "266    0.302088         0.395916      2                  2  \n",
       "267    0.249425         0.365883      2                  2  \n",
       "268    0.265805         0.381157      2                  2  \n",
       "\n",
       "[269 rows x 28 columns]"
      ]
     },
     "execution_count": 9,
     "metadata": {},
     "output_type": "execute_result"
    }
   ],
   "source": [
    "df"
   ]
  },
  {
   "cell_type": "code",
   "execution_count": 10,
   "id": "658dc812",
   "metadata": {},
   "outputs": [
    {
     "data": {
      "text/plain": [
       "2    110\n",
       "0     88\n",
       "1     71\n",
       "Name: Grade, dtype: int64"
      ]
     },
     "execution_count": 10,
     "metadata": {},
     "output_type": "execute_result"
    }
   ],
   "source": [
    "df['Grade'].value_counts()"
   ]
  },
  {
   "cell_type": "code",
   "execution_count": 11,
   "id": "7e048044",
   "metadata": {},
   "outputs": [
    {
     "data": {
      "text/plain": [
       "0    102\n",
       "2     94\n",
       "1     73\n",
       "Name: assigned_clusters, dtype: int64"
      ]
     },
     "execution_count": 11,
     "metadata": {},
     "output_type": "execute_result"
    }
   ],
   "source": [
    "df['assigned_clusters'].value_counts()"
   ]
  },
  {
   "cell_type": "code",
   "execution_count": 12,
   "id": "878b56c4",
   "metadata": {},
   "outputs": [
    {
     "data": {
      "text/plain": [
       "0.0286313119271239"
      ]
     },
     "execution_count": 12,
     "metadata": {},
     "output_type": "execute_result"
    }
   ],
   "source": [
    "metrics.adjusted_rand_score(df['assigned_clusters'],df['Grade'])"
   ]
  },
  {
   "cell_type": "markdown",
   "id": "a23cc9c8",
   "metadata": {},
   "source": [
    "### Supervised Learning "
   ]
  },
  {
   "cell_type": "code",
   "execution_count": 13,
   "id": "33f9255a",
   "metadata": {},
   "outputs": [],
   "source": [
    "X = df.drop(['image_id','Grade','assigned_clusters'],axis=1)\n",
    "y = df['Grade']"
   ]
  },
  {
   "cell_type": "code",
   "execution_count": 14,
   "id": "16bad116",
   "metadata": {},
   "outputs": [],
   "source": [
    "sc1 = StandardScaler()\n",
    "X_scaled = sc1.fit_transform(X)"
   ]
  },
  {
   "cell_type": "code",
   "execution_count": 15,
   "id": "f767b22a",
   "metadata": {},
   "outputs": [],
   "source": [
    "x_train, x_test, y_train, y_test = train_test_split(X_scaled,y,test_size=0.25,random_state=1121218)"
   ]
  },
  {
   "cell_type": "code",
   "execution_count": 16,
   "id": "d83c94ab",
   "metadata": {},
   "outputs": [
    {
     "data": {
      "text/html": [
       "<style type='text/css'>\n",
       ".datatable table.frame { margin-bottom: 0; }\n",
       ".datatable table.frame thead { border-bottom: none; }\n",
       ".datatable table.frame tr.coltypes td {  color: #FFFFFF;  line-height: 6px;  padding: 0 0.5em;}\n",
       ".datatable .bool    { background: #DDDD99; }\n",
       ".datatable .object  { background: #565656; }\n",
       ".datatable .int     { background: #5D9E5D; }\n",
       ".datatable .float   { background: #4040CC; }\n",
       ".datatable .str     { background: #CC4040; }\n",
       ".datatable .time    { background: #40CC40; }\n",
       ".datatable .row_index {  background: var(--jp-border-color3);  border-right: 1px solid var(--jp-border-color0);  color: var(--jp-ui-font-color3);  font-size: 9px;}\n",
       ".datatable .frame tbody td { text-align: left; }\n",
       ".datatable .frame tr.coltypes .row_index {  background: var(--jp-border-color0);}\n",
       ".datatable th:nth-child(2) { padding-left: 12px; }\n",
       ".datatable .hellipsis {  color: var(--jp-cell-editor-border-color);}\n",
       ".datatable .vellipsis {  background: var(--jp-layout-color0);  color: var(--jp-cell-editor-border-color);}\n",
       ".datatable .na {  color: var(--jp-cell-editor-border-color);  font-size: 80%;}\n",
       ".datatable .sp {  opacity: 0.25;}\n",
       ".datatable .footer { font-size: 9px; }\n",
       ".datatable .frame_dimensions {  background: var(--jp-border-color3);  border-top: 1px solid var(--jp-border-color0);  color: var(--jp-ui-font-color3);  display: inline-block;  opacity: 0.6;  padding: 1px 10px 1px 5px;}\n",
       "</style>\n"
      ],
      "text/plain": [
       "<IPython.core.display.HTML object>"
      ]
     },
     "metadata": {},
     "output_type": "display_data"
    },
    {
     "name": "stderr",
     "output_type": "stream",
     "text": [
      "100%|██████████████████████████████████████████████████████████████████████████████████| 29/29 [00:00<00:00, 29.57it/s]"
     ]
    },
    {
     "name": "stdout",
     "output_type": "stream",
     "text": [
      "                               Accuracy  Balanced Accuracy ROC AUC  F1 Score  \\\n",
      "Model                                                                          \n",
      "LGBMClassifier                     0.82               0.77    None      0.82   \n",
      "RandomForestClassifier             0.82               0.77    None      0.83   \n",
      "LinearDiscriminantAnalysis         0.75               0.77    None      0.75   \n",
      "XGBClassifier                      0.81               0.76    None      0.81   \n",
      "ExtraTreesClassifier               0.81               0.76    None      0.81   \n",
      "QuadraticDiscriminantAnalysis      0.79               0.73    None      0.79   \n",
      "BaggingClassifier                  0.78               0.72    None      0.78   \n",
      "NuSVC                              0.74               0.72    None      0.74   \n",
      "AdaBoostClassifier                 0.75               0.71    None      0.75   \n",
      "ExtraTreeClassifier                0.74               0.69    None      0.74   \n",
      "LabelPropagation                   0.75               0.69    None      0.76   \n",
      "LabelSpreading                     0.75               0.69    None      0.76   \n",
      "KNeighborsClassifier               0.74               0.69    None      0.74   \n",
      "RidgeClassifierCV                  0.66               0.65    None      0.67   \n",
      "RidgeClassifier                    0.66               0.65    None      0.67   \n",
      "CalibratedClassifierCV             0.66               0.65    None      0.67   \n",
      "LinearSVC                          0.66               0.65    None      0.67   \n",
      "DecisionTreeClassifier             0.72               0.65    None      0.73   \n",
      "PassiveAggressiveClassifier        0.65               0.63    None      0.65   \n",
      "SGDClassifier                      0.62               0.62    None      0.63   \n",
      "LogisticRegression                 0.60               0.61    None      0.61   \n",
      "SVC                                0.54               0.52    None      0.55   \n",
      "GaussianNB                         0.53               0.49    None      0.51   \n",
      "Perceptron                         0.50               0.47    None      0.51   \n",
      "BernoulliNB                        0.46               0.44    None      0.45   \n",
      "NearestCentroid                    0.43               0.42    None      0.40   \n",
      "DummyClassifier                    0.51               0.33    None      0.35   \n",
      "\n",
      "                               Time Taken  \n",
      "Model                                      \n",
      "LGBMClassifier                       0.07  \n",
      "RandomForestClassifier               0.16  \n",
      "LinearDiscriminantAnalysis           0.01  \n",
      "XGBClassifier                        0.14  \n",
      "ExtraTreesClassifier                 0.11  \n",
      "QuadraticDiscriminantAnalysis        0.01  \n",
      "BaggingClassifier                    0.04  \n",
      "NuSVC                                0.01  \n",
      "AdaBoostClassifier                   0.09  \n",
      "ExtraTreeClassifier                  0.01  \n",
      "LabelPropagation                     0.01  \n",
      "LabelSpreading                       0.01  \n",
      "KNeighborsClassifier                 0.03  \n",
      "RidgeClassifierCV                    0.01  \n",
      "RidgeClassifier                      0.01  \n",
      "CalibratedClassifierCV               0.12  \n",
      "LinearSVC                            0.03  \n",
      "DecisionTreeClassifier               0.01  \n",
      "PassiveAggressiveClassifier          0.01  \n",
      "SGDClassifier                        0.01  \n",
      "LogisticRegression                   0.02  \n",
      "SVC                                  0.01  \n",
      "GaussianNB                           0.01  \n",
      "Perceptron                           0.01  \n",
      "BernoulliNB                          0.01  \n",
      "NearestCentroid                      0.02  \n",
      "DummyClassifier                      0.01  \n"
     ]
    },
    {
     "name": "stderr",
     "output_type": "stream",
     "text": [
      "\n"
     ]
    }
   ],
   "source": [
    "import lazypredict\n",
    "from lazypredict.Supervised import LazyClassifier\n",
    "clf = LazyClassifier(verbose=0, ignore_warnings=True, custom_metric = None)\n",
    "models,predictions = clf.fit(x_train, x_test, y_train, y_test)\n",
    "print(models)"
   ]
  },
  {
   "cell_type": "code",
   "execution_count": 17,
   "id": "77d49ece",
   "metadata": {},
   "outputs": [],
   "source": [
    "num_feat = [feature for feature in df.columns if df[feature].dtype!='object']"
   ]
  },
  {
   "cell_type": "code",
   "execution_count": 18,
   "id": "064fd938",
   "metadata": {},
   "outputs": [
    {
     "name": "stdout",
     "output_type": "stream",
     "text": [
      "['Mean_R', 'Mean_G', 'Mean_B', 'Std_R', 'Std_G', 'Std_B', 'Skew_R', 'Skew_G', 'Skew_B', 'Contrast_0', 'Correlation_0', 'Energy_0', 'Homogeneity_0', 'Contrast_45', 'Correlation_45', 'Energy_45', 'Homogeneity_45', 'Contrast_90', 'Correlation_90', 'Energy_90', 'Homogeneity_90', 'Contrast_135', 'Correlation_135', 'Energy_135', 'Homogeneity_135', 'Grade', 'assigned_clusters']\n"
     ]
    }
   ],
   "source": [
    "print(num_feat)"
   ]
  },
  {
   "cell_type": "code",
   "execution_count": 19,
   "id": "4480fe02",
   "metadata": {},
   "outputs": [
    {
     "data": {
      "text/plain": [
       "2    110\n",
       "0     88\n",
       "1     71\n",
       "Name: Grade, dtype: int64"
      ]
     },
     "execution_count": 19,
     "metadata": {},
     "output_type": "execute_result"
    }
   ],
   "source": [
    "df['Grade'].value_counts()"
   ]
  },
  {
   "cell_type": "code",
   "execution_count": 20,
   "id": "703d20c5",
   "metadata": {},
   "outputs": [],
   "source": [
    "X = df.drop(['image_id','Grade','assigned_clusters'],axis=1)\n",
    "y = df['Grade'].values.flatten()"
   ]
  },
  {
   "cell_type": "code",
   "execution_count": 21,
   "id": "bd59ff1d",
   "metadata": {},
   "outputs": [],
   "source": [
    "x_train, x_test, y_train, y_test = train_test_split(X, y, random_state=1121218, test_size=0.20)"
   ]
  },
  {
   "cell_type": "code",
   "execution_count": 22,
   "id": "6a61734a",
   "metadata": {},
   "outputs": [],
   "source": [
    "num_feat.remove('Grade')"
   ]
  },
  {
   "cell_type": "code",
   "execution_count": 23,
   "id": "e2ddaf1b",
   "metadata": {},
   "outputs": [],
   "source": [
    "num_feat.remove('assigned_clusters')"
   ]
  },
  {
   "cell_type": "code",
   "execution_count": 24,
   "id": "01054ef9",
   "metadata": {},
   "outputs": [],
   "source": [
    "from sklearn.compose import ColumnTransformer\n",
    "from sklearn.ensemble import RandomForestClassifier, GradientBoostingClassifier\n",
    "from sklearn.pipeline import Pipeline, make_pipeline\n",
    "from sklearn.preprocessing import (\n",
    "    OneHotEncoder, PowerTransformer, StandardScaler\n",
    "  )\n",
    "\n",
    "# Build numeric processor\n",
    "to_scale = num_feat\n",
    "numeric_pipe = make_pipeline(StandardScaler())\n",
    "\n",
    "# Full processor\n",
    "full = ColumnTransformer(\n",
    "    transformers=[\n",
    "        (\"standardization\", numeric_pipe, to_scale),\n",
    "    ]\n",
    ")\n",
    "\n",
    "# Final pipeline combined with RandomForest\n",
    "pipeline = Pipeline(\n",
    "    steps=[\n",
    "        (\"preprocess\", full),\n",
    "        (\n",
    "            \"base\",\n",
    "            RandomForestClassifier(max_depth=13),\n",
    "        ),\n",
    "    ]\n",
    ")\n",
    "# Fit\n",
    "_ = pipeline.fit(x_train, y_train)"
   ]
  },
  {
   "cell_type": "code",
   "execution_count": 25,
   "id": "1165f960",
   "metadata": {},
   "outputs": [
    {
     "data": {
      "image/png": "[encoded data removed]",
      "text/plain": [
       "<Figure size 600x400 with 2 Axes>"
      ]
     },
     "metadata": {},
     "output_type": "display_data"
    }
   ],
   "source": [
    "from sklearn.metrics import ConfusionMatrixDisplay, confusion_matrix\n",
    "\n",
    "y_pred = pipeline.predict(x_test)\n",
    "\n",
    "# Plot the confusion matrix\n",
    "fig, ax = plt.subplots(figsize=(6, 4))\n",
    "# Create the matrix\n",
    "cm = confusion_matrix(y_test, y_pred)\n",
    "cmp = ConfusionMatrixDisplay(cm, display_labels=pipeline.classes_)\n",
    "cmp.plot(ax=ax)\n",
    "\n",
    "plt.show();"
   ]
  },
  {
   "cell_type": "code",
   "execution_count": 26,
   "id": "fcffc8c9",
   "metadata": {},
   "outputs": [
    {
     "name": "stdout",
     "output_type": "stream",
     "text": [
      "0.8703703703703703\n"
     ]
    }
   ],
   "source": [
    "print(pipeline.score(x_test,y_test))"
   ]
  },
  {
   "cell_type": "code",
   "execution_count": 27,
   "id": "d6c9ccdd",
   "metadata": {},
   "outputs": [
    {
     "name": "stdout",
     "output_type": "stream",
     "text": [
      "0.9302325581395349\n"
     ]
    }
   ],
   "source": [
    "print(pipeline.score(x_train,y_train))"
   ]
  },
  {
   "cell_type": "code",
   "execution_count": 28,
   "id": "15f29820",
   "metadata": {},
   "outputs": [
    {
     "data": {
      "text/plain": [
       "0.97233216122105"
      ]
     },
     "execution_count": 28,
     "metadata": {},
     "output_type": "execute_result"
    }
   ],
   "source": [
    "from sklearn.metrics import roc_auc_score\n",
    "\n",
    "# Generate membership scores with .predict_proba\n",
    "y_pred_probs = pipeline.predict_proba(x_test)\n",
    "\n",
    "# Calculate ROC_AUC\n",
    "roc_auc_score(\n",
    "    y_test, y_pred_probs, multi_class=\"ovr\", average=\"weighted\"\n",
    ")"
   ]
  },
  {
   "cell_type": "code",
   "execution_count": 29,
   "id": "feb63b18",
   "metadata": {},
   "outputs": [
    {
     "name": "stdout",
     "output_type": "stream",
     "text": [
      "              precision    recall  f1-score   support\n",
      "\n",
      "           0       0.82      0.82      0.82        17\n",
      "           1       0.67      0.67      0.67         9\n",
      "           2       0.96      0.96      0.96        28\n",
      "\n",
      "    accuracy                           0.87        54\n",
      "   macro avg       0.82      0.82      0.82        54\n",
      "weighted avg       0.87      0.87      0.87        54\n",
      "\n"
     ]
    }
   ],
   "source": [
    "from sklearn.metrics import classification_report\n",
    "print(classification_report(y_test, y_pred))"
   ]
  },
  {
   "cell_type": "code",
   "execution_count": 30,
   "id": "198256bc",
   "metadata": {},
   "outputs": [
    {
     "data": {
      "text/plain": [
       "0.8703703703703703"
      ]
     },
     "execution_count": 30,
     "metadata": {},
     "output_type": "execute_result"
    }
   ],
   "source": [
    "from sklearn.metrics import f1_score\n",
    "f1_score(y_test, y_pred, average=\"weighted\")"
   ]
  },
  {
   "cell_type": "code",
   "execution_count": 40,
   "id": "290ea98f",
   "metadata": {},
   "outputs": [
    {
     "data": {
      "text/plain": [
       "['tomatomodel.joblib']"
      ]
     },
     "execution_count": 40,
     "metadata": {},
     "output_type": "execute_result"
    }
   ],
   "source": [
    "import joblib \n",
    "joblib.dump(pipeline,'tomatomodel.joblib')"
   ]
  },
  {
   "cell_type": "markdown",
   "id": "1288b802",
   "metadata": {},
   "source": [
    "Now I need to first make a function test which will take an image as input do all the preprocessing over the input, extract the features and then return the feature values for the image"
   ]
  },
  {
   "cell_type": "code",
   "execution_count": 31,
   "id": "f057ae61",
   "metadata": {},
   "outputs": [],
   "source": [
    "from skimage.feature import greycomatrix, greycoprops\n",
    "from skimage.io import imread, imshow, imsave\n",
    "from skimage import data\n",
    "from skimage.util import img_as_ubyte\n",
    "from skimage.filters.rank import entropy\n",
    "from skimage.morphology import disk\n",
    "from skimage.color import rgb2hsv, rgb2gray, rgb2yuv\n",
    "import cv2\n",
    "from skimage.measure.entropy import shannon_entropy\n",
    "from PIL import Image\n",
    "from skimage import io\n",
    "from scipy.stats import skew"
   ]
  },
  {
   "cell_type": "code",
   "execution_count": 32,
   "id": "4974e98d",
   "metadata": {},
   "outputs": [],
   "source": [
    "def entropy_mask_viz(image,factor):\n",
    "    image_gray = rgb2gray(image)\n",
    "    entropy_image = entropy(image_gray, disk(4),)\n",
    "    scaled_entropy = entropy_image / entropy_image.max()\n",
    "    f_size = 24\n",
    "    threshold = scaled_entropy > factor\n",
    "    image_a = np.dstack([image[:,:,0]*threshold,\n",
    "                            image[:,:,1]*threshold,\n",
    "                            image[:,:,2]*threshold])\n",
    "#         plt.imshow(image_a)\n",
    "#         plt.axis('off')\n",
    "    return image_a"
   ]
  },
  {
   "cell_type": "code",
   "execution_count": 33,
   "id": "1dcc3b45",
   "metadata": {},
   "outputs": [],
   "source": [
    "def test(image):\n",
    "#     img = imread(f'{self.name}/{i}/'+image)\n",
    "#     mask_image = self.entropy_mask_viz(img,threshold)\n",
    "#     path = f\"{self.name}MaskImages/{image}\"\n",
    "#     imsave(path, mask_image)\n",
    "#     mean_R, mean_G, mean_B = [],[],[]\n",
    "#     std_R,std_G,std_B = [],[],[]\n",
    "#     skewness_R,skewness_G,skewness_B = [],[],[]\n",
    "#     contrast_0,correlation_0,energy_0,homogeneity_0 = [],[],[],[]\n",
    "#     contrast_45,correlation_45,energy_45,homogeneity_45 = [],[],[],[]\n",
    "#     contrast_90,correlation_90,energy_90,homogeneity_90 = [],[],[],[]\n",
    "#     contrast_135,correlation_135,energy_135,homogeneity_135 = [],[],[],[]\n",
    "#     i = []\n",
    "#     img = io.imread(f'{self.name}MaskImages/'+image)\n",
    "    img = entropy_mask_viz(image,0.3)\n",
    "    img1 = img[..., :3]\n",
    "    x = np.array(img)\n",
    "    angles = [0, np.pi/4, np.pi/2, 3*np.pi/4]\n",
    "    img = cv2.cvtColor(x, cv2.COLOR_BGR2GRAY)\n",
    "#             Statistical Features\n",
    "    R, G, B = np.dsplit(img1, img1.shape[-1])\n",
    "    mean_R=(np.mean(R))\n",
    "    mean_G=(np.mean(G))\n",
    "    mean_B=(np.mean(B))\n",
    "    std_R=(np.std(R))\n",
    "    std_G=(np.std(G))\n",
    "    std_B=(np.std(B))\n",
    "    skewness_R=(skew(R.flatten()))\n",
    "    skewness_G=(skew(G.flatten()))\n",
    "    skewness_B=(skew(B.flatten()))\n",
    "#             Texture Feature\n",
    "    glcm_0 = greycomatrix(img, [5], [0], levels=256, normed=True, symmetric=True)\n",
    "    glcm_45 = greycomatrix(img, [5], [np.pi/4], levels=256, normed=True, symmetric=True)\n",
    "    glcm_90 = greycomatrix(img, [5], [np.pi/2], levels=256, normed=True, symmetric=True)\n",
    "    glcm_135 = greycomatrix(img, [5], [3*np.pi/4], levels=256, normed=True, symmetric=True)\n",
    "#             Contrast\n",
    "    contrast_0=(greycoprops(glcm_0, 'contrast')[0][0])\n",
    "    contrast_45=(greycoprops(glcm_45, 'contrast')[0][0])\n",
    "    contrast_90=(greycoprops(glcm_90, 'contrast')[0][0])\n",
    "    contrast_135=(greycoprops(glcm_135, 'contrast')[0][0])\n",
    "#             Correlation\n",
    "    correlation_0=(greycoprops(glcm_0, 'correlation')[0][0])\n",
    "    correlation_45=(greycoprops(glcm_45, 'correlation')[0][0])\n",
    "    correlation_90=(greycoprops(glcm_90, 'correlation')[0][0])\n",
    "    correlation_135=(greycoprops(glcm_135, 'correlation')[0][0])\n",
    "#             Energy\n",
    "    energy_0=(greycoprops(glcm_0, 'energy')[0][0])\n",
    "    energy_45=(greycoprops(glcm_45, 'energy')[0][0])\n",
    "    energy_90=(greycoprops(glcm_90, 'energy')[0][0])\n",
    "    energy_135=(greycoprops(glcm_135, 'energy')[0][0])\n",
    "#             Homogeneity\n",
    "    homogeneity_0=(greycoprops(glcm_0, 'homogeneity')[0][0])\n",
    "    homogeneity_45=(greycoprops(glcm_45, 'homogeneity')[0][0])\n",
    "    homogeneity_90=(greycoprops(glcm_90, 'homogeneity')[0][0])\n",
    "    homogeneity_135=(greycoprops(glcm_135, 'homogeneity')[0][0])\n",
    "    d = {'Mean_R':mean_R,'Mean_G':mean_G,'Mean_B':mean_B,'Std_R':std_R,'Std_G':std_G,\n",
    "         'Std_B':std_B,'Skew_R':skewness_R,'Skew_G':skewness_G,'Skew_B':skewness_B,\n",
    "         'Contrast_0':contrast_0,'Correlation_0':correlation_0,'Energy_0':energy_0,'Homogeneity_0':homogeneity_0,\n",
    "        'Contrast_45':contrast_45,'Correlation_45':correlation_45,'Energy_45':energy_45,'Homogeneity_45':homogeneity_45,\n",
    "        'Contrast_90':contrast_90,'Correlation_90':correlation_90,'Energy_90':energy_90,'Homogeneity_90':homogeneity_90,\n",
    "        'Contrast_135':contrast_135,'Correlation_135':correlation_135,'Energy_135':energy_135,'Homogeneity_135':homogeneity_135}\n",
    "    return d"
   ]
  },
  {
   "cell_type": "code",
   "execution_count": 34,
   "id": "f78d9088",
   "metadata": {},
   "outputs": [],
   "source": [
    "img = imread('toma.jpeg')\n",
    "d = test(img)"
   ]
  },
  {
   "cell_type": "code",
   "execution_count": 35,
   "id": "6ce0e7e6",
   "metadata": {},
   "outputs": [
    {
     "data": {
      "text/plain": [
       "{'Mean_R': 123.4796818529794,\n",
       " 'Mean_G': 56.0941845145899,\n",
       " 'Mean_B': 40.066353326568034,\n",
       " 'Std_R': 117.86221512740477,\n",
       " 'Std_G': 75.59763496427169,\n",
       " 'Std_B': 69.72164336853629,\n",
       " 'Skew_R': -0.04008311642259247,\n",
       " 'Skew_G': 1.2052801706785612,\n",
       " 'Skew_B': 1.903345663816942,\n",
       " 'Contrast_0': 1870.4089498259182,\n",
       " 'Correlation_0': 0.8300816018955953,\n",
       " 'Energy_0': 0.44414956044517523,\n",
       " 'Homogeneity_0': 0.5104594333549548,\n",
       " 'Contrast_45': 2392.3988320507005,\n",
       " 'Correlation_45': 0.7831446042459825,\n",
       " 'Energy_45': 0.4370474361111264,\n",
       " 'Homogeneity_45': 0.492769734494885,\n",
       " 'Contrast_90': 2024.4906300324824,\n",
       " 'Correlation_90': 0.8160839612831666,\n",
       " 'Energy_90': 0.44353617645299254,\n",
       " 'Homogeneity_90': 0.5032477538711758,\n",
       " 'Contrast_135': 2349.963449524669,\n",
       " 'Correlation_135': 0.786991095704,\n",
       " 'Energy_135': 0.4371735205259,\n",
       " 'Homogeneity_135': 0.49291975033720337}"
      ]
     },
     "execution_count": 35,
     "metadata": {},
     "output_type": "execute_result"
    }
   ],
   "source": [
    "d"
   ]
  },
  {
   "cell_type": "code",
   "execution_count": 36,
   "id": "e72bc208",
   "metadata": {},
   "outputs": [],
   "source": [
    "dct = {k:[v] for k,v in d.items()}  # WORKAROUND\n",
    "df = pd.DataFrame(dct)"
   ]
  },
  {
   "cell_type": "code",
   "execution_count": 37,
   "id": "55d7bfac",
   "metadata": {},
   "outputs": [
    {
     "data": {
      "text/html": [
       "<div>\n",
       "<style scoped>\n",
       "    .dataframe tbody tr th:only-of-type {\n",
       "        vertical-align: middle;\n",
       "    }\n",
       "\n",
       "    .dataframe tbody tr th {\n",
       "        vertical-align: top;\n",
       "    }\n",
       "\n",
       "    .dataframe thead th {\n",
       "        text-align: right;\n",
       "    }\n",
       "</style>\n",
       "<table border=\"1\" class=\"dataframe\">\n",
       "  <thead>\n",
       "    <tr style=\"text-align: right;\">\n",
       "      <th></th>\n",
       "      <th>Mean_R</th>\n",
       "      <th>Mean_G</th>\n",
       "      <th>Mean_B</th>\n",
       "      <th>Std_R</th>\n",
       "      <th>Std_G</th>\n",
       "      <th>Std_B</th>\n",
       "      <th>Skew_R</th>\n",
       "      <th>Skew_G</th>\n",
       "      <th>Skew_B</th>\n",
       "      <th>Contrast_0</th>\n",
       "      <th>...</th>\n",
       "      <th>Energy_45</th>\n",
       "      <th>Homogeneity_45</th>\n",
       "      <th>Contrast_90</th>\n",
       "      <th>Correlation_90</th>\n",
       "      <th>Energy_90</th>\n",
       "      <th>Homogeneity_90</th>\n",
       "      <th>Contrast_135</th>\n",
       "      <th>Correlation_135</th>\n",
       "      <th>Energy_135</th>\n",
       "      <th>Homogeneity_135</th>\n",
       "    </tr>\n",
       "  </thead>\n",
       "  <tbody>\n",
       "    <tr>\n",
       "      <th>0</th>\n",
       "      <td>123.48</td>\n",
       "      <td>56.09</td>\n",
       "      <td>40.07</td>\n",
       "      <td>117.86</td>\n",
       "      <td>75.60</td>\n",
       "      <td>69.72</td>\n",
       "      <td>-0.04</td>\n",
       "      <td>1.21</td>\n",
       "      <td>1.90</td>\n",
       "      <td>1870.41</td>\n",
       "      <td>...</td>\n",
       "      <td>0.44</td>\n",
       "      <td>0.49</td>\n",
       "      <td>2024.49</td>\n",
       "      <td>0.82</td>\n",
       "      <td>0.44</td>\n",
       "      <td>0.50</td>\n",
       "      <td>2349.96</td>\n",
       "      <td>0.79</td>\n",
       "      <td>0.44</td>\n",
       "      <td>0.49</td>\n",
       "    </tr>\n",
       "  </tbody>\n",
       "</table>\n",
       "<p>1 rows × 25 columns</p>\n",
       "</div>"
      ],
      "text/plain": [
       "   Mean_R  Mean_G  Mean_B  Std_R  Std_G  Std_B  Skew_R  Skew_G  Skew_B  \\\n",
       "0  123.48   56.09   40.07 117.86  75.60  69.72   -0.04    1.21    1.90   \n",
       "\n",
       "   Contrast_0  ...  Energy_45  Homogeneity_45  Contrast_90  Correlation_90  \\\n",
       "0     1870.41  ...       0.44            0.49      2024.49            0.82   \n",
       "\n",
       "   Energy_90  Homogeneity_90  Contrast_135  Correlation_135  Energy_135  \\\n",
       "0       0.44            0.50       2349.96             0.79        0.44   \n",
       "\n",
       "   Homogeneity_135  \n",
       "0             0.49  \n",
       "\n",
       "[1 rows x 25 columns]"
      ]
     },
     "execution_count": 37,
     "metadata": {},
     "output_type": "execute_result"
    }
   ],
   "source": [
    "df"
   ]
  },
  {
   "cell_type": "code",
   "execution_count": 38,
   "id": "9cd10731",
   "metadata": {},
   "outputs": [],
   "source": [
    "prediction = pipeline.predict(df)"
   ]
  },
  {
   "cell_type": "code",
   "execution_count": 39,
   "id": "ceb0a944",
   "metadata": {},
   "outputs": [
    {
     "data": {
      "text/plain": [
       "array([1], dtype=int64)"
      ]
     },
     "execution_count": 39,
     "metadata": {},
     "output_type": "execute_result"
    }
   ],
   "source": [
    "prediction"
   ]
  },
  {
   "cell_type": "code",
   "execution_count": null,
   "id": "b32dd467",
   "metadata": {},
   "outputs": [],
   "source": []
  }
 ],
 "metadata": {
  "kernelspec": {
   "display_name": "Python 3 (ipykernel)",
   "language": "python",
   "name": "python3"
  },
  "language_info": {
   "codemirror_mode": {
    "name": "ipython",
    "version": 3
   },
   "file_extension": ".py",
   "mimetype": "text/x-python",
   "name": "python",
   "nbconvert_exporter": "python",
   "pygments_lexer": "ipython3",
   "version": "3.9.7"
  }
 },
 "nbformat": 4,
 "nbformat_minor": 5
}
